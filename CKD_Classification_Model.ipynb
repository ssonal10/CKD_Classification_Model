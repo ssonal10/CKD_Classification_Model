{
 "cells": [
  {
   "cell_type": "markdown",
   "metadata": {},
   "source": [
    "# Importing all required modules"
   ]
  },
  {
   "cell_type": "code",
   "execution_count": 1,
   "metadata": {},
   "outputs": [],
   "source": [
    "# data analysis and wrangling\n",
    "import pandas as pd\n",
    "import numpy as np\n",
    "import random as rnd\n",
    "\n",
    "# visualization\n",
    "import seaborn as sns\n",
    "import matplotlib.pyplot as plt\n",
    "%matplotlib inline\n",
    "\n",
    "# machine learning\n",
    "from sklearn.linear_model import LogisticRegression\n",
    "from sklearn.svm import SVC, LinearSVC\n",
    "from sklearn.ensemble import RandomForestClassifier\n",
    "from sklearn.neighbors import KNeighborsClassifier\n",
    "from sklearn.naive_bayes import GaussianNB\n",
    "from sklearn.linear_model import Perceptron\n",
    "from sklearn.linear_model import SGDClassifier\n",
    "from sklearn.tree import DecisionTreeClassifier\n",
    "\n",
    "import os\n",
    "\n",
    "## for statistical tests\n",
    "import scipy\n",
    "from scipy.stats import f_oneway\n",
    " \n",
    "import statsmodels.formula.api as smf\n",
    "import statsmodels.api as sm\n",
    "## for machine learning\n",
    "from sklearn import model_selection, preprocessing, feature_selection, ensemble, linear_model, metrics, decomposition\n",
    "\n",
    "from matplotlib import rcParams\n",
    "# figure size in inches\n",
    "rcParams['figure.figsize'] = 20,15"
   ]
  },
  {
   "cell_type": "markdown",
   "metadata": {},
   "source": [
    "# Importing Data\n",
    "* We are using Pandas and Numpy for Data manupulation\n",
    "* 'na_values' attribute in Pandas.read_csv function is used to replace '?' with NULL values"
   ]
  },
  {
   "cell_type": "code",
   "execution_count": 2,
   "metadata": {},
   "outputs": [
    {
     "data": {
      "text/html": [
       "<div>\n",
       "<style scoped>\n",
       "    .dataframe tbody tr th:only-of-type {\n",
       "        vertical-align: middle;\n",
       "    }\n",
       "\n",
       "    .dataframe tbody tr th {\n",
       "        vertical-align: top;\n",
       "    }\n",
       "\n",
       "    .dataframe thead th {\n",
       "        text-align: right;\n",
       "    }\n",
       "</style>\n",
       "<table border=\"1\" class=\"dataframe\">\n",
       "  <thead>\n",
       "    <tr style=\"text-align: right;\">\n",
       "      <th></th>\n",
       "      <th>age</th>\n",
       "      <th>bp</th>\n",
       "      <th>sg</th>\n",
       "      <th>al</th>\n",
       "      <th>su</th>\n",
       "      <th>rbc</th>\n",
       "      <th>pc</th>\n",
       "      <th>pcc</th>\n",
       "      <th>ba</th>\n",
       "      <th>bgr</th>\n",
       "      <th>...</th>\n",
       "      <th>pcv</th>\n",
       "      <th>wbcc</th>\n",
       "      <th>rbcc</th>\n",
       "      <th>htn</th>\n",
       "      <th>dm</th>\n",
       "      <th>cad</th>\n",
       "      <th>appet</th>\n",
       "      <th>pe</th>\n",
       "      <th>ane</th>\n",
       "      <th>class</th>\n",
       "    </tr>\n",
       "  </thead>\n",
       "  <tbody>\n",
       "    <tr>\n",
       "      <th>0</th>\n",
       "      <td>48.0</td>\n",
       "      <td>80.0</td>\n",
       "      <td>1.020</td>\n",
       "      <td>1.0</td>\n",
       "      <td>0.0</td>\n",
       "      <td>NaN</td>\n",
       "      <td>normal</td>\n",
       "      <td>notpresent</td>\n",
       "      <td>notpresent</td>\n",
       "      <td>121.0</td>\n",
       "      <td>...</td>\n",
       "      <td>44</td>\n",
       "      <td>7800</td>\n",
       "      <td>5.2</td>\n",
       "      <td>yes</td>\n",
       "      <td>yes</td>\n",
       "      <td>no</td>\n",
       "      <td>good</td>\n",
       "      <td>no</td>\n",
       "      <td>no</td>\n",
       "      <td>ckd</td>\n",
       "    </tr>\n",
       "    <tr>\n",
       "      <th>1</th>\n",
       "      <td>7.0</td>\n",
       "      <td>50.0</td>\n",
       "      <td>1.020</td>\n",
       "      <td>4.0</td>\n",
       "      <td>0.0</td>\n",
       "      <td>NaN</td>\n",
       "      <td>normal</td>\n",
       "      <td>notpresent</td>\n",
       "      <td>notpresent</td>\n",
       "      <td>NaN</td>\n",
       "      <td>...</td>\n",
       "      <td>38</td>\n",
       "      <td>6000</td>\n",
       "      <td>NaN</td>\n",
       "      <td>no</td>\n",
       "      <td>no</td>\n",
       "      <td>no</td>\n",
       "      <td>good</td>\n",
       "      <td>no</td>\n",
       "      <td>no</td>\n",
       "      <td>ckd</td>\n",
       "    </tr>\n",
       "    <tr>\n",
       "      <th>2</th>\n",
       "      <td>62.0</td>\n",
       "      <td>80.0</td>\n",
       "      <td>1.010</td>\n",
       "      <td>2.0</td>\n",
       "      <td>3.0</td>\n",
       "      <td>normal</td>\n",
       "      <td>normal</td>\n",
       "      <td>notpresent</td>\n",
       "      <td>notpresent</td>\n",
       "      <td>423.0</td>\n",
       "      <td>...</td>\n",
       "      <td>31</td>\n",
       "      <td>7500</td>\n",
       "      <td>NaN</td>\n",
       "      <td>no</td>\n",
       "      <td>yes</td>\n",
       "      <td>no</td>\n",
       "      <td>poor</td>\n",
       "      <td>no</td>\n",
       "      <td>yes</td>\n",
       "      <td>ckd</td>\n",
       "    </tr>\n",
       "    <tr>\n",
       "      <th>3</th>\n",
       "      <td>48.0</td>\n",
       "      <td>70.0</td>\n",
       "      <td>1.005</td>\n",
       "      <td>4.0</td>\n",
       "      <td>0.0</td>\n",
       "      <td>normal</td>\n",
       "      <td>abnormal</td>\n",
       "      <td>present</td>\n",
       "      <td>notpresent</td>\n",
       "      <td>117.0</td>\n",
       "      <td>...</td>\n",
       "      <td>32</td>\n",
       "      <td>6700</td>\n",
       "      <td>3.9</td>\n",
       "      <td>yes</td>\n",
       "      <td>no</td>\n",
       "      <td>no</td>\n",
       "      <td>poor</td>\n",
       "      <td>yes</td>\n",
       "      <td>yes</td>\n",
       "      <td>ckd</td>\n",
       "    </tr>\n",
       "    <tr>\n",
       "      <th>4</th>\n",
       "      <td>51.0</td>\n",
       "      <td>80.0</td>\n",
       "      <td>1.010</td>\n",
       "      <td>2.0</td>\n",
       "      <td>0.0</td>\n",
       "      <td>normal</td>\n",
       "      <td>normal</td>\n",
       "      <td>notpresent</td>\n",
       "      <td>notpresent</td>\n",
       "      <td>106.0</td>\n",
       "      <td>...</td>\n",
       "      <td>35</td>\n",
       "      <td>7300</td>\n",
       "      <td>4.6</td>\n",
       "      <td>no</td>\n",
       "      <td>no</td>\n",
       "      <td>no</td>\n",
       "      <td>good</td>\n",
       "      <td>no</td>\n",
       "      <td>no</td>\n",
       "      <td>ckd</td>\n",
       "    </tr>\n",
       "    <tr>\n",
       "      <th>...</th>\n",
       "      <td>...</td>\n",
       "      <td>...</td>\n",
       "      <td>...</td>\n",
       "      <td>...</td>\n",
       "      <td>...</td>\n",
       "      <td>...</td>\n",
       "      <td>...</td>\n",
       "      <td>...</td>\n",
       "      <td>...</td>\n",
       "      <td>...</td>\n",
       "      <td>...</td>\n",
       "      <td>...</td>\n",
       "      <td>...</td>\n",
       "      <td>...</td>\n",
       "      <td>...</td>\n",
       "      <td>...</td>\n",
       "      <td>...</td>\n",
       "      <td>...</td>\n",
       "      <td>...</td>\n",
       "      <td>...</td>\n",
       "      <td>...</td>\n",
       "    </tr>\n",
       "    <tr>\n",
       "      <th>395</th>\n",
       "      <td>55.0</td>\n",
       "      <td>80.0</td>\n",
       "      <td>1.020</td>\n",
       "      <td>0.0</td>\n",
       "      <td>0.0</td>\n",
       "      <td>normal</td>\n",
       "      <td>normal</td>\n",
       "      <td>notpresent</td>\n",
       "      <td>notpresent</td>\n",
       "      <td>140.0</td>\n",
       "      <td>...</td>\n",
       "      <td>47</td>\n",
       "      <td>6700</td>\n",
       "      <td>4.9</td>\n",
       "      <td>no</td>\n",
       "      <td>no</td>\n",
       "      <td>no</td>\n",
       "      <td>good</td>\n",
       "      <td>no</td>\n",
       "      <td>no</td>\n",
       "      <td>notckd</td>\n",
       "    </tr>\n",
       "    <tr>\n",
       "      <th>396</th>\n",
       "      <td>42.0</td>\n",
       "      <td>70.0</td>\n",
       "      <td>1.025</td>\n",
       "      <td>0.0</td>\n",
       "      <td>0.0</td>\n",
       "      <td>normal</td>\n",
       "      <td>normal</td>\n",
       "      <td>notpresent</td>\n",
       "      <td>notpresent</td>\n",
       "      <td>75.0</td>\n",
       "      <td>...</td>\n",
       "      <td>54</td>\n",
       "      <td>7800</td>\n",
       "      <td>6.2</td>\n",
       "      <td>no</td>\n",
       "      <td>no</td>\n",
       "      <td>no</td>\n",
       "      <td>good</td>\n",
       "      <td>no</td>\n",
       "      <td>no</td>\n",
       "      <td>notckd</td>\n",
       "    </tr>\n",
       "    <tr>\n",
       "      <th>397</th>\n",
       "      <td>12.0</td>\n",
       "      <td>80.0</td>\n",
       "      <td>1.020</td>\n",
       "      <td>0.0</td>\n",
       "      <td>0.0</td>\n",
       "      <td>normal</td>\n",
       "      <td>normal</td>\n",
       "      <td>notpresent</td>\n",
       "      <td>notpresent</td>\n",
       "      <td>100.0</td>\n",
       "      <td>...</td>\n",
       "      <td>49</td>\n",
       "      <td>6600</td>\n",
       "      <td>5.4</td>\n",
       "      <td>no</td>\n",
       "      <td>no</td>\n",
       "      <td>no</td>\n",
       "      <td>good</td>\n",
       "      <td>no</td>\n",
       "      <td>no</td>\n",
       "      <td>notckd</td>\n",
       "    </tr>\n",
       "    <tr>\n",
       "      <th>398</th>\n",
       "      <td>17.0</td>\n",
       "      <td>60.0</td>\n",
       "      <td>1.025</td>\n",
       "      <td>0.0</td>\n",
       "      <td>0.0</td>\n",
       "      <td>normal</td>\n",
       "      <td>normal</td>\n",
       "      <td>notpresent</td>\n",
       "      <td>notpresent</td>\n",
       "      <td>114.0</td>\n",
       "      <td>...</td>\n",
       "      <td>51</td>\n",
       "      <td>7200</td>\n",
       "      <td>5.9</td>\n",
       "      <td>no</td>\n",
       "      <td>no</td>\n",
       "      <td>no</td>\n",
       "      <td>good</td>\n",
       "      <td>no</td>\n",
       "      <td>no</td>\n",
       "      <td>notckd</td>\n",
       "    </tr>\n",
       "    <tr>\n",
       "      <th>399</th>\n",
       "      <td>58.0</td>\n",
       "      <td>80.0</td>\n",
       "      <td>1.025</td>\n",
       "      <td>0.0</td>\n",
       "      <td>0.0</td>\n",
       "      <td>normal</td>\n",
       "      <td>normal</td>\n",
       "      <td>notpresent</td>\n",
       "      <td>notpresent</td>\n",
       "      <td>131.0</td>\n",
       "      <td>...</td>\n",
       "      <td>53</td>\n",
       "      <td>6800</td>\n",
       "      <td>6.1</td>\n",
       "      <td>no</td>\n",
       "      <td>no</td>\n",
       "      <td>no</td>\n",
       "      <td>good</td>\n",
       "      <td>no</td>\n",
       "      <td>no</td>\n",
       "      <td>notckd</td>\n",
       "    </tr>\n",
       "  </tbody>\n",
       "</table>\n",
       "<p>400 rows × 25 columns</p>\n",
       "</div>"
      ],
      "text/plain": [
       "      age    bp     sg   al   su     rbc        pc         pcc          ba  \\\n",
       "0    48.0  80.0  1.020  1.0  0.0     NaN    normal  notpresent  notpresent   \n",
       "1     7.0  50.0  1.020  4.0  0.0     NaN    normal  notpresent  notpresent   \n",
       "2    62.0  80.0  1.010  2.0  3.0  normal    normal  notpresent  notpresent   \n",
       "3    48.0  70.0  1.005  4.0  0.0  normal  abnormal     present  notpresent   \n",
       "4    51.0  80.0  1.010  2.0  0.0  normal    normal  notpresent  notpresent   \n",
       "..    ...   ...    ...  ...  ...     ...       ...         ...         ...   \n",
       "395  55.0  80.0  1.020  0.0  0.0  normal    normal  notpresent  notpresent   \n",
       "396  42.0  70.0  1.025  0.0  0.0  normal    normal  notpresent  notpresent   \n",
       "397  12.0  80.0  1.020  0.0  0.0  normal    normal  notpresent  notpresent   \n",
       "398  17.0  60.0  1.025  0.0  0.0  normal    normal  notpresent  notpresent   \n",
       "399  58.0  80.0  1.025  0.0  0.0  normal    normal  notpresent  notpresent   \n",
       "\n",
       "       bgr  ...  pcv  wbcc  rbcc  htn   dm cad appet   pe  ane   class  \n",
       "0    121.0  ...   44  7800   5.2  yes  yes  no  good   no   no     ckd  \n",
       "1      NaN  ...   38  6000   NaN   no   no  no  good   no   no     ckd  \n",
       "2    423.0  ...   31  7500   NaN   no  yes  no  poor   no  yes     ckd  \n",
       "3    117.0  ...   32  6700   3.9  yes   no  no  poor  yes  yes     ckd  \n",
       "4    106.0  ...   35  7300   4.6   no   no  no  good   no   no     ckd  \n",
       "..     ...  ...  ...   ...   ...  ...  ...  ..   ...  ...  ...     ...  \n",
       "395  140.0  ...   47  6700   4.9   no   no  no  good   no   no  notckd  \n",
       "396   75.0  ...   54  7800   6.2   no   no  no  good   no   no  notckd  \n",
       "397  100.0  ...   49  6600   5.4   no   no  no  good   no   no  notckd  \n",
       "398  114.0  ...   51  7200   5.9   no   no  no  good   no   no  notckd  \n",
       "399  131.0  ...   53  6800   6.1   no   no  no  good   no   no  notckd  \n",
       "\n",
       "[400 rows x 25 columns]"
      ]
     },
     "execution_count": 2,
     "metadata": {},
     "output_type": "execute_result"
    }
   ],
   "source": [
    "# Import Data\n",
    "input_filename = 'kidneyChronic.csv'\n",
    "input_filepath = os.getcwd()+\"/\"+input_filename\n",
    "# Replacing \n",
    "Base_df = pd.read_csv(input_filepath,index_col=False,na_values=['?'])\n",
    "Base_df"
   ]
  },
  {
   "cell_type": "markdown",
   "metadata": {},
   "source": [
    "## Replace any escaped, literal and whitespaces character as per data analysis done in later portion of code "
   ]
  },
  {
   "cell_type": "code",
   "execution_count": 3,
   "metadata": {},
   "outputs": [],
   "source": [
    "# handle escaped , literal and whitespaces as per data analysis done below\n",
    "Base_df.replace(to_replace=[r\"\\\\t|\\\\n|\\\\r\", \"\\t|\\n|\\r\",'(^\\s+|\\s+$)','\\t'], value=['','','',''], regex=True, inplace=True)\n",
    "Base_df.replace(\"?\",np.nan,inplace =True)\n"
   ]
  },
  {
   "cell_type": "markdown",
   "metadata": {},
   "source": [
    "## Creating the numerical verison of class variable for easy analysis"
   ]
  },
  {
   "cell_type": "code",
   "execution_count": 4,
   "metadata": {},
   "outputs": [],
   "source": [
    "Base_df['class_num'] =  np.where(Base_df[\"class\"]=='ckd',1,0)"
   ]
  },
  {
   "cell_type": "code",
   "execution_count": 5,
   "metadata": {},
   "outputs": [
    {
     "name": "stdout",
     "output_type": "stream",
     "text": [
      "Total Rows:  400\n",
      "CKD Events:  250\n",
      "Event Rate:  0.625\n"
     ]
    }
   ],
   "source": [
    "print('Total Rows: ',Base_df.shape[0])\n",
    "print('CKD Events: ', Base_df['class_num'].sum())\n",
    "print('Event Rate: ', Base_df['class_num'].sum()/Base_df.shape[0])"
   ]
  },
  {
   "cell_type": "markdown",
   "metadata": {},
   "source": [
    "## Creating a dictionary for field names and their descriptions/elaborated names for easy understanding"
   ]
  },
  {
   "cell_type": "code",
   "execution_count": 6,
   "metadata": {},
   "outputs": [
    {
     "data": {
      "text/plain": [
       "{'age': 'age',\n",
       " 'bp': 'blood pressure',\n",
       " 'sg': 'specific gravity',\n",
       " 'al': 'albumin',\n",
       " 'su': 'sugar',\n",
       " 'rbc': 'red blood cells',\n",
       " 'pc': 'pus cell',\n",
       " 'pcc': 'pus cell clumps',\n",
       " 'ba': 'bacteria',\n",
       " 'bgr': 'blood glucose random',\n",
       " 'bu': 'blood urea',\n",
       " 'sc': 'serum creatinine',\n",
       " 'sod': 'sodium',\n",
       " 'pot': 'potassium',\n",
       " 'hemo': 'hemoglobin',\n",
       " 'pcv': 'packed cell volume',\n",
       " 'wbcc': 'white blood cell count',\n",
       " 'rbcc': 'red blood cell count',\n",
       " 'htn': 'hypertension',\n",
       " 'dm': 'diabetes mellitus',\n",
       " 'cad': 'coronary artery disease',\n",
       " 'appet': 'appetite',\n",
       " 'pe': 'pedal edema',\n",
       " 'ane': 'anemia',\n",
       " 'class': 'class'}"
      ]
     },
     "execution_count": 6,
     "metadata": {},
     "output_type": "execute_result"
    }
   ],
   "source": [
    "# Creating dict for field names and elaboration\n",
    "Attributes_Description = { 'age' :'age' , 'bp' :'blood pressure' , 'sg' :'specific gravity' , 'al' :'albumin' , 'su' :'sugar' , 'rbc' :'red blood cells' , 'pc' :'pus cell' , 'pcc' :'pus cell clumps' , 'ba' :'bacteria' , 'bgr' :'blood glucose random' , 'bu' :'blood urea' , 'sc' :'serum creatinine' , 'sod' :'sodium' , 'pot' :'potassium' , 'hemo' :'hemoglobin' , 'pcv' :'packed cell volume' , 'wbcc' :'white blood cell count' , 'rbcc' :'red blood cell count' , 'htn' :'hypertension' , 'dm' :'diabetes mellitus' , 'cad' :'coronary artery disease' , 'appet' :'appetite' , 'pe' :'pedal edema' , 'ane' :'anemia' , 'class' :'class'}\n",
    "\n",
    "\n",
    "Attributes_Description"
   ]
  },
  {
   "cell_type": "markdown",
   "metadata": {},
   "source": [
    "## Checking the missing value percentage for each attribute"
   ]
  },
  {
   "cell_type": "code",
   "execution_count": 7,
   "metadata": {},
   "outputs": [
    {
     "name": "stdout",
     "output_type": "stream",
     "text": [
      "> age , Missing: 9 (2.2%)\n",
      "> bp , Missing: 12 (3.0%)\n",
      "> sg , Missing: 47 (11.8%)\n",
      "> al , Missing: 46 (11.5%)\n",
      "> su , Missing: 49 (12.2%)\n",
      "> rbc , Missing: 152 (38.0%)\n",
      "> pc , Missing: 65 (16.2%)\n",
      "> pcc , Missing: 4 (1.0%)\n",
      "> ba , Missing: 4 (1.0%)\n",
      "> bgr , Missing: 44 (11.0%)\n",
      "> bu , Missing: 19 (4.8%)\n",
      "> sc , Missing: 17 (4.2%)\n",
      "> sod , Missing: 87 (21.8%)\n",
      "> pot , Missing: 88 (22.0%)\n",
      "> hemo , Missing: 52 (13.0%)\n",
      "> pcv , Missing: 71 (17.8%)\n",
      "> wbcc , Missing: 106 (26.5%)\n",
      "> rbcc , Missing: 131 (32.8%)\n",
      "> htn , Missing: 2 (0.5%)\n",
      "> dm , Missing: 2 (0.5%)\n",
      "> cad , Missing: 2 (0.5%)\n",
      "> appet , Missing: 1 (0.2%)\n",
      "> pe , Missing: 1 (0.2%)\n",
      "> ane , Missing: 1 (0.2%)\n",
      "> class , Missing: 0 (0.0%)\n",
      "> class_num , Missing: 0 (0.0%)\n"
     ]
    }
   ],
   "source": [
    "for i in (Base_df.columns):\n",
    "    # count number of rows with missing values\n",
    "    n_miss = Base_df[[i]].isnull().sum()\n",
    "    perc = n_miss / Base_df.shape[0] * 100\n",
    "    print('> %s , Missing: %d (%.1f%%)' % (i, n_miss, perc))"
   ]
  },
  {
   "cell_type": "markdown",
   "metadata": {},
   "source": [
    "## Checking the data types and value counts for each fields"
   ]
  },
  {
   "cell_type": "code",
   "execution_count": 8,
   "metadata": {},
   "outputs": [
    {
     "name": "stdout",
     "output_type": "stream",
     "text": [
      "<class 'pandas.core.frame.DataFrame'>\n",
      "RangeIndex: 400 entries, 0 to 399\n",
      "Data columns (total 26 columns):\n",
      " #   Column     Non-Null Count  Dtype  \n",
      "---  ------     --------------  -----  \n",
      " 0   age        391 non-null    float64\n",
      " 1   bp         388 non-null    float64\n",
      " 2   sg         353 non-null    float64\n",
      " 3   al         354 non-null    float64\n",
      " 4   su         351 non-null    float64\n",
      " 5   rbc        248 non-null    object \n",
      " 6   pc         335 non-null    object \n",
      " 7   pcc        396 non-null    object \n",
      " 8   ba         396 non-null    object \n",
      " 9   bgr        356 non-null    float64\n",
      " 10  bu         381 non-null    float64\n",
      " 11  sc         383 non-null    float64\n",
      " 12  sod        313 non-null    float64\n",
      " 13  pot        312 non-null    float64\n",
      " 14  hemo       348 non-null    float64\n",
      " 15  pcv        329 non-null    object \n",
      " 16  wbcc       294 non-null    object \n",
      " 17  rbcc       269 non-null    object \n",
      " 18  htn        398 non-null    object \n",
      " 19  dm         398 non-null    object \n",
      " 20  cad        398 non-null    object \n",
      " 21  appet      399 non-null    object \n",
      " 22  pe         399 non-null    object \n",
      " 23  ane        399 non-null    object \n",
      " 24  class      400 non-null    object \n",
      " 25  class_num  400 non-null    int64  \n",
      "dtypes: float64(11), int64(1), object(14)\n",
      "memory usage: 81.4+ KB\n"
     ]
    }
   ],
   "source": [
    "Base_df.info()"
   ]
  },
  {
   "cell_type": "markdown",
   "metadata": {},
   "source": [
    "## Basic EDA for numerical columns"
   ]
  },
  {
   "cell_type": "code",
   "execution_count": 9,
   "metadata": {
    "scrolled": true
   },
   "outputs": [
    {
     "data": {
      "text/html": [
       "<div>\n",
       "<style scoped>\n",
       "    .dataframe tbody tr th:only-of-type {\n",
       "        vertical-align: middle;\n",
       "    }\n",
       "\n",
       "    .dataframe tbody tr th {\n",
       "        vertical-align: top;\n",
       "    }\n",
       "\n",
       "    .dataframe thead th {\n",
       "        text-align: right;\n",
       "    }\n",
       "</style>\n",
       "<table border=\"1\" class=\"dataframe\">\n",
       "  <thead>\n",
       "    <tr style=\"text-align: right;\">\n",
       "      <th></th>\n",
       "      <th>age</th>\n",
       "      <th>bp</th>\n",
       "      <th>sg</th>\n",
       "      <th>al</th>\n",
       "      <th>su</th>\n",
       "      <th>bgr</th>\n",
       "      <th>bu</th>\n",
       "      <th>sc</th>\n",
       "      <th>sod</th>\n",
       "      <th>pot</th>\n",
       "      <th>hemo</th>\n",
       "      <th>class_num</th>\n",
       "    </tr>\n",
       "  </thead>\n",
       "  <tbody>\n",
       "    <tr>\n",
       "      <th>count</th>\n",
       "      <td>391.000000</td>\n",
       "      <td>388.000000</td>\n",
       "      <td>353.000000</td>\n",
       "      <td>354.000000</td>\n",
       "      <td>351.000000</td>\n",
       "      <td>356.000000</td>\n",
       "      <td>381.000000</td>\n",
       "      <td>383.000000</td>\n",
       "      <td>313.000000</td>\n",
       "      <td>312.000000</td>\n",
       "      <td>348.000000</td>\n",
       "      <td>400.000000</td>\n",
       "    </tr>\n",
       "    <tr>\n",
       "      <th>mean</th>\n",
       "      <td>51.483376</td>\n",
       "      <td>76.469072</td>\n",
       "      <td>1.017408</td>\n",
       "      <td>1.016949</td>\n",
       "      <td>0.450142</td>\n",
       "      <td>148.036517</td>\n",
       "      <td>57.425722</td>\n",
       "      <td>3.072454</td>\n",
       "      <td>137.528754</td>\n",
       "      <td>4.627244</td>\n",
       "      <td>12.526437</td>\n",
       "      <td>0.625000</td>\n",
       "    </tr>\n",
       "    <tr>\n",
       "      <th>std</th>\n",
       "      <td>17.169714</td>\n",
       "      <td>13.683637</td>\n",
       "      <td>0.005717</td>\n",
       "      <td>1.352679</td>\n",
       "      <td>1.099191</td>\n",
       "      <td>79.281714</td>\n",
       "      <td>50.503006</td>\n",
       "      <td>5.741126</td>\n",
       "      <td>10.408752</td>\n",
       "      <td>3.193904</td>\n",
       "      <td>2.912587</td>\n",
       "      <td>0.484729</td>\n",
       "    </tr>\n",
       "    <tr>\n",
       "      <th>min</th>\n",
       "      <td>2.000000</td>\n",
       "      <td>50.000000</td>\n",
       "      <td>1.005000</td>\n",
       "      <td>0.000000</td>\n",
       "      <td>0.000000</td>\n",
       "      <td>22.000000</td>\n",
       "      <td>1.500000</td>\n",
       "      <td>0.400000</td>\n",
       "      <td>4.500000</td>\n",
       "      <td>2.500000</td>\n",
       "      <td>3.100000</td>\n",
       "      <td>0.000000</td>\n",
       "    </tr>\n",
       "    <tr>\n",
       "      <th>25%</th>\n",
       "      <td>42.000000</td>\n",
       "      <td>70.000000</td>\n",
       "      <td>1.010000</td>\n",
       "      <td>0.000000</td>\n",
       "      <td>0.000000</td>\n",
       "      <td>99.000000</td>\n",
       "      <td>27.000000</td>\n",
       "      <td>0.900000</td>\n",
       "      <td>135.000000</td>\n",
       "      <td>3.800000</td>\n",
       "      <td>10.300000</td>\n",
       "      <td>0.000000</td>\n",
       "    </tr>\n",
       "    <tr>\n",
       "      <th>50%</th>\n",
       "      <td>55.000000</td>\n",
       "      <td>80.000000</td>\n",
       "      <td>1.020000</td>\n",
       "      <td>0.000000</td>\n",
       "      <td>0.000000</td>\n",
       "      <td>121.000000</td>\n",
       "      <td>42.000000</td>\n",
       "      <td>1.300000</td>\n",
       "      <td>138.000000</td>\n",
       "      <td>4.400000</td>\n",
       "      <td>12.650000</td>\n",
       "      <td>1.000000</td>\n",
       "    </tr>\n",
       "    <tr>\n",
       "      <th>75%</th>\n",
       "      <td>64.500000</td>\n",
       "      <td>80.000000</td>\n",
       "      <td>1.020000</td>\n",
       "      <td>2.000000</td>\n",
       "      <td>0.000000</td>\n",
       "      <td>163.000000</td>\n",
       "      <td>66.000000</td>\n",
       "      <td>2.800000</td>\n",
       "      <td>142.000000</td>\n",
       "      <td>4.900000</td>\n",
       "      <td>15.000000</td>\n",
       "      <td>1.000000</td>\n",
       "    </tr>\n",
       "    <tr>\n",
       "      <th>max</th>\n",
       "      <td>90.000000</td>\n",
       "      <td>180.000000</td>\n",
       "      <td>1.025000</td>\n",
       "      <td>5.000000</td>\n",
       "      <td>5.000000</td>\n",
       "      <td>490.000000</td>\n",
       "      <td>391.000000</td>\n",
       "      <td>76.000000</td>\n",
       "      <td>163.000000</td>\n",
       "      <td>47.000000</td>\n",
       "      <td>17.800000</td>\n",
       "      <td>1.000000</td>\n",
       "    </tr>\n",
       "  </tbody>\n",
       "</table>\n",
       "</div>"
      ],
      "text/plain": [
       "              age          bp          sg          al          su         bgr  \\\n",
       "count  391.000000  388.000000  353.000000  354.000000  351.000000  356.000000   \n",
       "mean    51.483376   76.469072    1.017408    1.016949    0.450142  148.036517   \n",
       "std     17.169714   13.683637    0.005717    1.352679    1.099191   79.281714   \n",
       "min      2.000000   50.000000    1.005000    0.000000    0.000000   22.000000   \n",
       "25%     42.000000   70.000000    1.010000    0.000000    0.000000   99.000000   \n",
       "50%     55.000000   80.000000    1.020000    0.000000    0.000000  121.000000   \n",
       "75%     64.500000   80.000000    1.020000    2.000000    0.000000  163.000000   \n",
       "max     90.000000  180.000000    1.025000    5.000000    5.000000  490.000000   \n",
       "\n",
       "               bu          sc         sod         pot        hemo   class_num  \n",
       "count  381.000000  383.000000  313.000000  312.000000  348.000000  400.000000  \n",
       "mean    57.425722    3.072454  137.528754    4.627244   12.526437    0.625000  \n",
       "std     50.503006    5.741126   10.408752    3.193904    2.912587    0.484729  \n",
       "min      1.500000    0.400000    4.500000    2.500000    3.100000    0.000000  \n",
       "25%     27.000000    0.900000  135.000000    3.800000   10.300000    0.000000  \n",
       "50%     42.000000    1.300000  138.000000    4.400000   12.650000    1.000000  \n",
       "75%     66.000000    2.800000  142.000000    4.900000   15.000000    1.000000  \n",
       "max    391.000000   76.000000  163.000000   47.000000   17.800000    1.000000  "
      ]
     },
     "execution_count": 9,
     "metadata": {},
     "output_type": "execute_result"
    }
   ],
   "source": [
    "Base_df.describe()"
   ]
  },
  {
   "cell_type": "markdown",
   "metadata": {},
   "source": [
    "## Basic EDA for categorical columns"
   ]
  },
  {
   "cell_type": "code",
   "execution_count": 10,
   "metadata": {
    "scrolled": true
   },
   "outputs": [
    {
     "data": {
      "text/html": [
       "<div>\n",
       "<style scoped>\n",
       "    .dataframe tbody tr th:only-of-type {\n",
       "        vertical-align: middle;\n",
       "    }\n",
       "\n",
       "    .dataframe tbody tr th {\n",
       "        vertical-align: top;\n",
       "    }\n",
       "\n",
       "    .dataframe thead th {\n",
       "        text-align: right;\n",
       "    }\n",
       "</style>\n",
       "<table border=\"1\" class=\"dataframe\">\n",
       "  <thead>\n",
       "    <tr style=\"text-align: right;\">\n",
       "      <th></th>\n",
       "      <th>rbc</th>\n",
       "      <th>pc</th>\n",
       "      <th>pcc</th>\n",
       "      <th>ba</th>\n",
       "      <th>pcv</th>\n",
       "      <th>wbcc</th>\n",
       "      <th>rbcc</th>\n",
       "      <th>htn</th>\n",
       "      <th>dm</th>\n",
       "      <th>cad</th>\n",
       "      <th>appet</th>\n",
       "      <th>pe</th>\n",
       "      <th>ane</th>\n",
       "      <th>class</th>\n",
       "    </tr>\n",
       "  </thead>\n",
       "  <tbody>\n",
       "    <tr>\n",
       "      <th>count</th>\n",
       "      <td>248</td>\n",
       "      <td>335</td>\n",
       "      <td>396</td>\n",
       "      <td>396</td>\n",
       "      <td>329</td>\n",
       "      <td>294</td>\n",
       "      <td>269</td>\n",
       "      <td>398</td>\n",
       "      <td>398</td>\n",
       "      <td>398</td>\n",
       "      <td>399</td>\n",
       "      <td>399</td>\n",
       "      <td>399</td>\n",
       "      <td>400</td>\n",
       "    </tr>\n",
       "    <tr>\n",
       "      <th>unique</th>\n",
       "      <td>2</td>\n",
       "      <td>2</td>\n",
       "      <td>2</td>\n",
       "      <td>2</td>\n",
       "      <td>42</td>\n",
       "      <td>89</td>\n",
       "      <td>45</td>\n",
       "      <td>2</td>\n",
       "      <td>2</td>\n",
       "      <td>2</td>\n",
       "      <td>2</td>\n",
       "      <td>2</td>\n",
       "      <td>2</td>\n",
       "      <td>2</td>\n",
       "    </tr>\n",
       "    <tr>\n",
       "      <th>top</th>\n",
       "      <td>normal</td>\n",
       "      <td>normal</td>\n",
       "      <td>notpresent</td>\n",
       "      <td>notpresent</td>\n",
       "      <td>41</td>\n",
       "      <td>9800</td>\n",
       "      <td>5.2</td>\n",
       "      <td>no</td>\n",
       "      <td>no</td>\n",
       "      <td>no</td>\n",
       "      <td>good</td>\n",
       "      <td>no</td>\n",
       "      <td>no</td>\n",
       "      <td>ckd</td>\n",
       "    </tr>\n",
       "    <tr>\n",
       "      <th>freq</th>\n",
       "      <td>201</td>\n",
       "      <td>259</td>\n",
       "      <td>354</td>\n",
       "      <td>374</td>\n",
       "      <td>21</td>\n",
       "      <td>11</td>\n",
       "      <td>18</td>\n",
       "      <td>251</td>\n",
       "      <td>261</td>\n",
       "      <td>364</td>\n",
       "      <td>317</td>\n",
       "      <td>323</td>\n",
       "      <td>339</td>\n",
       "      <td>250</td>\n",
       "    </tr>\n",
       "  </tbody>\n",
       "</table>\n",
       "</div>"
      ],
      "text/plain": [
       "           rbc      pc         pcc          ba  pcv  wbcc rbcc  htn   dm  cad  \\\n",
       "count      248     335         396         396  329   294  269  398  398  398   \n",
       "unique       2       2           2           2   42    89   45    2    2    2   \n",
       "top     normal  normal  notpresent  notpresent   41  9800  5.2   no   no   no   \n",
       "freq       201     259         354         374   21    11   18  251  261  364   \n",
       "\n",
       "       appet   pe  ane class  \n",
       "count    399  399  399   400  \n",
       "unique     2    2    2     2  \n",
       "top     good   no   no   ckd  \n",
       "freq     317  323  339   250  "
      ]
     },
     "execution_count": 10,
     "metadata": {},
     "output_type": "execute_result"
    }
   ],
   "source": [
    "Base_df.describe(include=['O'])"
   ]
  },
  {
   "cell_type": "markdown",
   "metadata": {},
   "source": [
    "## Bifurcating different column types as lists for easy combined operations"
   ]
  },
  {
   "cell_type": "code",
   "execution_count": 11,
   "metadata": {},
   "outputs": [],
   "source": [
    "#Making list of different types of columns\n",
    "Target = 'class_num'\n",
    "nominal_col =['sg', 'al', 'su', 'rbc', 'pc', 'pcc', 'ba', 'htn', 'dm', 'cad', 'appet', 'pe', 'ane']\n",
    "\n",
    "numerical_col = ['age', 'bp','bgr', 'bu',\n",
    "       'sc', 'sod', 'pot', 'hemo', 'pcv', 'wbcc', 'rbcc']"
   ]
  },
  {
   "cell_type": "markdown",
   "metadata": {},
   "source": [
    "## Analysing Distinct values and counts in categorical columns"
   ]
  },
  {
   "cell_type": "code",
   "execution_count": 12,
   "metadata": {},
   "outputs": [
    {
     "name": "stdout",
     "output_type": "stream",
     "text": [
      "----------------------------------------------------------------------------------------------------\n",
      "specific gravity\n",
      "----------------------------------------------------------------------------------------------------\n",
      "1.020    106\n",
      "1.010     84\n",
      "1.025     81\n",
      "1.015     75\n",
      "1.005      7\n",
      "Name: sg, dtype: int64\n",
      "----------------------------------------------------------------------------------------------------\n",
      "albumin\n",
      "----------------------------------------------------------------------------------------------------\n",
      "0.0    199\n",
      "1.0     44\n",
      "2.0     43\n",
      "3.0     43\n",
      "4.0     24\n",
      "5.0      1\n",
      "Name: al, dtype: int64\n",
      "----------------------------------------------------------------------------------------------------\n",
      "sugar\n",
      "----------------------------------------------------------------------------------------------------\n",
      "0.0    290\n",
      "2.0     18\n",
      "3.0     14\n",
      "1.0     13\n",
      "4.0     13\n",
      "5.0      3\n",
      "Name: su, dtype: int64\n",
      "----------------------------------------------------------------------------------------------------\n",
      "red blood cells\n",
      "----------------------------------------------------------------------------------------------------\n",
      "normal      201\n",
      "abnormal     47\n",
      "Name: rbc, dtype: int64\n",
      "----------------------------------------------------------------------------------------------------\n",
      "pus cell\n",
      "----------------------------------------------------------------------------------------------------\n",
      "normal      259\n",
      "abnormal     76\n",
      "Name: pc, dtype: int64\n",
      "----------------------------------------------------------------------------------------------------\n",
      "pus cell clumps\n",
      "----------------------------------------------------------------------------------------------------\n",
      "notpresent    354\n",
      "present        42\n",
      "Name: pcc, dtype: int64\n",
      "----------------------------------------------------------------------------------------------------\n",
      "bacteria\n",
      "----------------------------------------------------------------------------------------------------\n",
      "notpresent    374\n",
      "present        22\n",
      "Name: ba, dtype: int64\n",
      "----------------------------------------------------------------------------------------------------\n",
      "hypertension\n",
      "----------------------------------------------------------------------------------------------------\n",
      "no     251\n",
      "yes    147\n",
      "Name: htn, dtype: int64\n",
      "----------------------------------------------------------------------------------------------------\n",
      "diabetes mellitus\n",
      "----------------------------------------------------------------------------------------------------\n",
      "no     261\n",
      "yes    137\n",
      "Name: dm, dtype: int64\n",
      "----------------------------------------------------------------------------------------------------\n",
      "coronary artery disease\n",
      "----------------------------------------------------------------------------------------------------\n",
      "no     364\n",
      "yes     34\n",
      "Name: cad, dtype: int64\n",
      "----------------------------------------------------------------------------------------------------\n",
      "appetite\n",
      "----------------------------------------------------------------------------------------------------\n",
      "good    317\n",
      "poor     82\n",
      "Name: appet, dtype: int64\n",
      "----------------------------------------------------------------------------------------------------\n",
      "pedal edema\n",
      "----------------------------------------------------------------------------------------------------\n",
      "no     323\n",
      "yes     76\n",
      "Name: pe, dtype: int64\n",
      "----------------------------------------------------------------------------------------------------\n",
      "anemia\n",
      "----------------------------------------------------------------------------------------------------\n",
      "no     339\n",
      "yes     60\n",
      "Name: ane, dtype: int64\n"
     ]
    }
   ],
   "source": [
    "# Printing distinct values of Nominal fields \n",
    "for i in nominal_col:\n",
    "    print('-'*100)\n",
    "    print(Attributes_Description[i])\n",
    "    print('-'*100)\n",
    "    print(Base_df[i].value_counts())"
   ]
  },
  {
   "cell_type": "markdown",
   "metadata": {},
   "source": [
    "## Analysing the event rate in each category in detail"
   ]
  },
  {
   "cell_type": "code",
   "execution_count": 13,
   "metadata": {},
   "outputs": [
    {
     "name": "stdout",
     "output_type": "stream",
     "text": [
      "----------------------------------------------------------------------------------------------------\n",
      "specific gravity\n",
      "----------------------------------------------------------------------------------------------------\n",
      "      sg  sg_value_count  sg_target_count  sg_target_%\n",
      "0   1.01              84               84     1.000000\n",
      "1  1.015              75               75     1.000000\n",
      "2     NA              47               42     0.893617\n",
      "3   1.02             106               31     0.292453\n",
      "4  1.025              81               11     0.135802\n",
      "5  1.005               7                7     1.000000\n",
      "****************************************************************************************************\n",
      "                                                                                                    \n",
      "----------------------------------------------------------------------------------------------------\n",
      "albumin\n",
      "----------------------------------------------------------------------------------------------------\n",
      "    al  al_value_count  al_target_count  al_target_%\n",
      "0  0.0             199               54     0.271357\n",
      "1  1.0              44               44     1.000000\n",
      "2  2.0              43               43     1.000000\n",
      "3  3.0              43               43     1.000000\n",
      "4   NA              46               41     0.891304\n",
      "5  4.0              24               24     1.000000\n",
      "6  5.0               1                1     1.000000\n",
      "****************************************************************************************************\n",
      "                                                                                                    \n",
      "----------------------------------------------------------------------------------------------------\n",
      "sugar\n",
      "----------------------------------------------------------------------------------------------------\n",
      "    su  su_value_count  su_target_count  su_target_%\n",
      "0  0.0             290              145     0.500000\n",
      "1   NA              49               44     0.897959\n",
      "2  2.0              18               18     1.000000\n",
      "3  3.0              14               14     1.000000\n",
      "4  1.0              13               13     1.000000\n",
      "5  4.0              13               13     1.000000\n",
      "6  5.0               3                3     1.000000\n",
      "****************************************************************************************************\n",
      "                                                                                                    \n",
      "----------------------------------------------------------------------------------------------------\n",
      "red blood cells\n",
      "----------------------------------------------------------------------------------------------------\n",
      "        rbc  rbc_value_count  rbc_target_count  rbc_target_%\n",
      "0        NA              152               143      0.940789\n",
      "1    normal              201                60      0.298507\n",
      "2  abnormal               47                47      1.000000\n",
      "****************************************************************************************************\n",
      "                                                                                                    \n",
      "----------------------------------------------------------------------------------------------------\n",
      "pus cell\n",
      "----------------------------------------------------------------------------------------------------\n",
      "         pc  pc_value_count  pc_target_count  pc_target_%\n",
      "0    normal             259              118     0.455598\n",
      "1  abnormal              76               76     1.000000\n",
      "2        NA              65               56     0.861538\n",
      "****************************************************************************************************\n",
      "                                                                                                    \n",
      "----------------------------------------------------------------------------------------------------\n",
      "pus cell clumps\n",
      "----------------------------------------------------------------------------------------------------\n",
      "          pcc  pcc_value_count  pcc_target_count  pcc_target_%\n",
      "0  notpresent              354               208      0.587571\n",
      "1     present               42                42      1.000000\n",
      "2          NA                4                 0      0.000000\n",
      "****************************************************************************************************\n",
      "                                                                                                    \n",
      "----------------------------------------------------------------------------------------------------\n",
      "bacteria\n",
      "----------------------------------------------------------------------------------------------------\n",
      "           ba  ba_value_count  ba_target_count  ba_target_%\n",
      "0  notpresent             374              228     0.609626\n",
      "1     present              22               22     1.000000\n",
      "2          NA               4                0     0.000000\n",
      "****************************************************************************************************\n",
      "                                                                                                    \n",
      "----------------------------------------------------------------------------------------------------\n",
      "hypertension\n",
      "----------------------------------------------------------------------------------------------------\n",
      "   htn  htn_value_count  htn_target_count  htn_target_%\n",
      "0  yes              147               147      1.000000\n",
      "1   no              251               103      0.410359\n",
      "2   NA                2                 0      0.000000\n",
      "****************************************************************************************************\n",
      "                                                                                                    \n",
      "----------------------------------------------------------------------------------------------------\n",
      "diabetes mellitus\n",
      "----------------------------------------------------------------------------------------------------\n",
      "    dm  dm_value_count  dm_target_count  dm_target_%\n",
      "0  yes             137              137      1.00000\n",
      "1   no             261              113      0.43295\n",
      "2   NA               2                0      0.00000\n",
      "****************************************************************************************************\n",
      "                                                                                                    \n",
      "----------------------------------------------------------------------------------------------------\n",
      "coronary artery disease\n",
      "----------------------------------------------------------------------------------------------------\n",
      "   cad  cad_value_count  cad_target_count  cad_target_%\n",
      "0   no              364               216      0.593407\n",
      "1  yes               34                34      1.000000\n",
      "2   NA                2                 0      0.000000\n",
      "****************************************************************************************************\n",
      "                                                                                                    \n",
      "----------------------------------------------------------------------------------------------------\n",
      "appetite\n",
      "----------------------------------------------------------------------------------------------------\n",
      "  appet  appet_value_count  appet_target_count  appet_target_%\n",
      "0  good                317                 168        0.529968\n",
      "1  poor                 82                  82        1.000000\n",
      "2    NA                  1                   0        0.000000\n",
      "****************************************************************************************************\n",
      "                                                                                                    \n",
      "----------------------------------------------------------------------------------------------------\n",
      "pedal edema\n",
      "----------------------------------------------------------------------------------------------------\n",
      "    pe  pe_value_count  pe_target_count  pe_target_%\n",
      "0   no             323              174       0.5387\n",
      "1  yes              76               76       1.0000\n",
      "2   NA               1                0       0.0000\n",
      "****************************************************************************************************\n",
      "                                                                                                    \n",
      "----------------------------------------------------------------------------------------------------\n",
      "anemia\n",
      "----------------------------------------------------------------------------------------------------\n",
      "   ane  ane_value_count  ane_target_count  ane_target_%\n",
      "0   no              339               190      0.560472\n",
      "1  yes               60                60      1.000000\n",
      "2   NA                1                 0      0.000000\n",
      "****************************************************************************************************\n",
      "                                                                                                    \n"
     ]
    }
   ],
   "source": [
    "for i in nominal_col: \n",
    "    temp = Base_df[[i, Target]].fillna('NA').groupby([i], as_index=False).sum().sort_values(by=Target, ascending=False)\n",
    "    temp1 = pd.DataFrame(Base_df[i].fillna('NA').value_counts() )\n",
    "    temp1.columns = [i+'_value_count']\n",
    "    temp.rename(columns = {'class_num': i+'_target_count'},inplace = True)\n",
    "    temp = temp.merge(temp1, left_on=  temp[i] ,right_on=temp1.index).drop(columns='key_0')\n",
    "    temp[i+'_target_%'] = temp[i+'_target_count']/temp[i+'_value_count']\n",
    "    temp = temp[[i,i+'_value_count',i+'_target_count',i+'_target_%']]\n",
    "    print('-'*100)\n",
    "    print(Attributes_Description[i])\n",
    "    print('-'*100)\n",
    "    print(temp)\n",
    "    print('*'*100)\n",
    "    print(' '*100)"
   ]
  },
  {
   "cell_type": "markdown",
   "metadata": {},
   "source": [
    "## Performed missing value treatment for Nominal Attrinutes as per above analysis \n",
    "### Following methods are used for missing value treatment\n",
    "* Mode value treatment\n",
    "* Constant value treatment\n",
    "\n",
    "I referred following blog for the topic [Link](https://machinelearningmastery.com/handle-missing-data-python/\n",
    "\"optional title\")"
   ]
  },
  {
   "cell_type": "code",
   "execution_count": 14,
   "metadata": {},
   "outputs": [],
   "source": [
    "# Missing value treatment for Nominal Attrinutes as per above analysis \n",
    "\n",
    "# Mode Treatment field names - pcc,ba,dm,cad,appet,pe\n",
    "# Constant value treatment field names - al,su,rbc,pc,sg\n",
    "\n",
    "mis_val_dict = {'sg': 'Novalue','al':0,'su':0,'rbc':'Novalue',\n",
    "                'pc':'Novalue','pcc':'Novalue','ba':'Novalue','htn':'no',\n",
    "                'dm':'no','cad':'no','appet':'good','pe':'no','ane':'no'}\n",
    "\n",
    "\n",
    "for i in nominal_col:\n",
    "    Base_df[i] = Base_df[i].fillna(mis_val_dict[i])\n"
   ]
  },
  {
   "cell_type": "markdown",
   "metadata": {},
   "source": [
    "## Error handling by converting all numerical fields as float"
   ]
  },
  {
   "cell_type": "code",
   "execution_count": 15,
   "metadata": {},
   "outputs": [],
   "source": [
    "for i in numerical_col:\n",
    "    Base_df[i] = Base_df[i].astype(float)"
   ]
  },
  {
   "cell_type": "markdown",
   "metadata": {},
   "source": [
    "## EDA for numerical attributes by checking mean value in each class"
   ]
  },
  {
   "cell_type": "code",
   "execution_count": 16,
   "metadata": {},
   "outputs": [
    {
     "name": "stdout",
     "output_type": "stream",
     "text": [
      "----------------------------------------------------------------------------------------------------\n",
      "age\n",
      "----------------------------------------------------------------------------------------------------\n",
      "                 age\n",
      "class_num           \n",
      "0          46.516779\n",
      "1          54.541322\n",
      "****************************************************************************************************\n",
      "                                                                                                    \n",
      "----------------------------------------------------------------------------------------------------\n",
      "blood pressure\n",
      "----------------------------------------------------------------------------------------------------\n",
      "                  bp\n",
      "class_num           \n",
      "0          71.351351\n",
      "1          79.625000\n",
      "****************************************************************************************************\n",
      "                                                                                                    \n",
      "----------------------------------------------------------------------------------------------------\n",
      "blood glucose random\n",
      "----------------------------------------------------------------------------------------------------\n",
      "                  bgr\n",
      "class_num            \n",
      "0          107.722222\n",
      "1          175.419811\n",
      "****************************************************************************************************\n",
      "                                                                                                    \n",
      "----------------------------------------------------------------------------------------------------\n",
      "blood urea\n",
      "----------------------------------------------------------------------------------------------------\n",
      "                  bu\n",
      "class_num           \n",
      "0          32.798611\n",
      "1          72.389030\n",
      "****************************************************************************************************\n",
      "                                                                                                    \n",
      "----------------------------------------------------------------------------------------------------\n",
      "serum creatinine\n",
      "----------------------------------------------------------------------------------------------------\n",
      "                 sc\n",
      "class_num          \n",
      "0          0.868966\n",
      "1          4.414916\n",
      "****************************************************************************************************\n",
      "                                                                                                    \n",
      "----------------------------------------------------------------------------------------------------\n",
      "sodium\n",
      "----------------------------------------------------------------------------------------------------\n",
      "                  sod\n",
      "class_num            \n",
      "0          141.731034\n",
      "1          133.901786\n",
      "****************************************************************************************************\n",
      "                                                                                                    \n",
      "----------------------------------------------------------------------------------------------------\n",
      "potassium\n",
      "----------------------------------------------------------------------------------------------------\n",
      "                pot\n",
      "class_num          \n",
      "0          4.337931\n",
      "1          4.878443\n",
      "****************************************************************************************************\n",
      "                                                                                                    \n",
      "----------------------------------------------------------------------------------------------------\n",
      "hemoglobin\n",
      "----------------------------------------------------------------------------------------------------\n",
      "                hemo\n",
      "class_num           \n",
      "0          15.188194\n",
      "1          10.647549\n",
      "****************************************************************************************************\n",
      "                                                                                                    \n",
      "----------------------------------------------------------------------------------------------------\n",
      "packed cell volume\n",
      "----------------------------------------------------------------------------------------------------\n",
      "                 pcv\n",
      "class_num           \n",
      "0          46.335616\n",
      "1          32.939891\n",
      "****************************************************************************************************\n",
      "                                                                                                    \n",
      "----------------------------------------------------------------------------------------------------\n",
      "white blood cell count\n",
      "----------------------------------------------------------------------------------------------------\n",
      "                  wbcc\n",
      "class_num             \n",
      "0          7705.594406\n",
      "1          9069.536424\n",
      "****************************************************************************************************\n",
      "                                                                                                    \n",
      "----------------------------------------------------------------------------------------------------\n",
      "red blood cell count\n",
      "----------------------------------------------------------------------------------------------------\n",
      "               rbcc\n",
      "class_num          \n",
      "0          5.379021\n",
      "1          3.945238\n",
      "****************************************************************************************************\n",
      "                                                                                                    \n"
     ]
    }
   ],
   "source": [
    "for i in numerical_col:\n",
    "    print('-'*100)\n",
    "    print(Attributes_Description[i])\n",
    "    print('-'*100)\n",
    "    print(Base_df.pivot_table(values=i,index=[Target],aggfunc=np.mean))\n",
    "    print('*'*100)\n",
    "    print(' '*100)\n",
    "    "
   ]
  },
  {
   "cell_type": "markdown",
   "metadata": {},
   "source": [
    "## Visualising the numerical attributes for better understanding of data"
   ]
  },
  {
   "cell_type": "code",
   "execution_count": 17,
   "metadata": {},
   "outputs": [
    {
     "data": {
      "image/png": "[encoded data removed]",
      "text/plain": [
       "<Figure size 432x216 with 2 Axes>"
      ]
     },
     "metadata": {
      "needs_background": "light"
     },
     "output_type": "display_data"
    },
    {
     "data": {
      "image/png": "[encoded data removed]",
      "text/plain": [
       "<Figure size 432x216 with 2 Axes>"
      ]
     },
     "metadata": {
      "needs_background": "light"
     },
     "output_type": "display_data"
    },
    {
     "data": {
      "image/png": "[encoded data removed]",
      "text/plain": [
       "<Figure size 432x216 with 2 Axes>"
      ]
     },
     "metadata": {
      "needs_background": "light"
     },
     "output_type": "display_data"
    },
    {
     "data": {
      "image/png": "[encoded data removed]",
      "text/plain": [
       "<Figure size 432x216 with 2 Axes>"
      ]
     },
     "metadata": {
      "needs_background": "light"
     },
     "output_type": "display_data"
    },
    {
     "data": {
      "image/png": "[encoded data removed]",
      "text/plain": [
       "<Figure size 432x216 with 2 Axes>"
      ]
     },
     "metadata": {
      "needs_background": "light"
     },
     "output_type": "display_data"
    },
    {
     "data": {
      "image/png": "[encoded data removed]",
      "text/plain": [
       "<Figure size 432x216 with 2 Axes>"
      ]
     },
     "metadata": {
      "needs_background": "light"
     },
     "output_type": "display_data"
    },
    {
     "data": {
      "image/png": "[encoded data removed]",
      "text/plain": [
       "<Figure size 432x216 with 2 Axes>"
      ]
     },
     "metadata": {
      "needs_background": "light"
     },
     "output_type": "display_data"
    },
    {
     "data": {
      "image/png": "[encoded data removed]",
      "text/plain": [
       "<Figure size 432x216 with 2 Axes>"
      ]
     },
     "metadata": {
      "needs_background": "light"
     },
     "output_type": "display_data"
    },
    {
     "data": {
      "image/png": "[encoded data removed]",
      "text/plain": [
       "<Figure size 432x216 with 2 Axes>"
      ]
     },
     "metadata": {
      "needs_background": "light"
     },
     "output_type": "display_data"
    },
    {
     "data": {
      "image/png": "[encoded data removed]",
      "text/plain": [
       "<Figure size 432x216 with 2 Axes>"
      ]
     },
     "metadata": {
      "needs_background": "light"
     },
     "output_type": "display_data"
    },
    {
     "data": {
      "image/png": "[encoded data removed]",
      "text/plain": [
       "<Figure size 432x216 with 2 Axes>"
      ]
     },
     "metadata": {
      "needs_background": "light"
     },
     "output_type": "display_data"
    }
   ],
   "source": [
    "for i in numerical_col:\n",
    "    g = sns.FacetGrid(Base_df, col=Target)\n",
    "    g.map(plt.hist, i, bins=20)"
   ]
  },
  {
   "cell_type": "markdown",
   "metadata": {},
   "source": [
    "## Anlysing missing values counts for numerical attributes"
   ]
  },
  {
   "cell_type": "code",
   "execution_count": 18,
   "metadata": {},
   "outputs": [
    {
     "data": {
      "text/plain": [
       "age       9\n",
       "bp       12\n",
       "bgr      44\n",
       "bu       19\n",
       "sc       17\n",
       "sod      87\n",
       "pot      88\n",
       "hemo     52\n",
       "pcv      71\n",
       "wbcc    106\n",
       "rbcc    131\n",
       "dtype: int64"
      ]
     },
     "execution_count": 18,
     "metadata": {},
     "output_type": "execute_result"
    }
   ],
   "source": [
    "Base_df[numerical_col].isnull().sum()"
   ]
  },
  {
   "cell_type": "markdown",
   "metadata": {},
   "source": [
    "## Analysing numerical data by binning values"
   ]
  },
  {
   "cell_type": "code",
   "execution_count": 19,
   "metadata": {},
   "outputs": [
    {
     "name": "stdout",
     "output_type": "stream",
     "text": [
      "----------------------------------------------------------------------------------------------------\n",
      "age\n",
      "----------------------------------------------------------------------------------------------------\n",
      "                Band  count  sum      mean\n",
      "0     (-0.09, 8.182]      5    5  1.000000\n",
      "1    (8.182, 16.364]      9    8  0.888889\n",
      "2   (16.364, 24.545]     23    7  0.304348\n",
      "3   (24.545, 32.727]     32   10  0.312500\n",
      "4   (32.727, 40.909]     55   21  0.381818\n",
      "5   (40.909, 49.091]      0    0       NaN\n",
      "6   (49.091, 57.273]     71   47  0.661972\n",
      "7   (57.273, 65.455]    115   82  0.713043\n",
      "8   (65.455, 73.636]     61   47  0.770492\n",
      "9   (73.636, 81.818]     19   14  0.736842\n",
      "10    (81.818, 90.0]      1    1  1.000000\n",
      "****************************************************************************************************\n",
      "                                                                                                    \n",
      "----------------------------------------------------------------------------------------------------\n",
      "blood pressure\n",
      "----------------------------------------------------------------------------------------------------\n",
      "                  Band  count  sum      mean\n",
      "0      (49.87, 61.818]     76   31  0.407895\n",
      "1     (61.818, 73.636]    112   74  0.660714\n",
      "2     (73.636, 85.455]    116   51  0.439655\n",
      "3     (85.455, 97.273]     53   53  1.000000\n",
      "4    (97.273, 109.091]     25   25  1.000000\n",
      "5   (109.091, 120.909]      4    4  1.000000\n",
      "6   (120.909, 132.727]      0    0       NaN\n",
      "7   (132.727, 144.545]      1    1  1.000000\n",
      "8   (144.545, 156.364]      0    0       NaN\n",
      "9   (156.364, 168.182]      0    0       NaN\n",
      "10    (168.182, 180.0]      1    1  1.000000\n",
      "****************************************************************************************************\n",
      "                                                                                                    \n",
      "----------------------------------------------------------------------------------------------------\n",
      "blood glucose random\n",
      "----------------------------------------------------------------------------------------------------\n",
      "                  Band  count  sum      mean\n",
      "0      (19.53, 62.727]      1    1  1.000000\n",
      "1    (62.727, 105.455]    116   50  0.431034\n",
      "2   (105.455, 148.182]    135   57  0.422222\n",
      "3   (148.182, 190.909]     32   32  1.000000\n",
      "4   (190.909, 233.636]     25   25  1.000000\n",
      "5   (233.636, 276.364]     20   20  1.000000\n",
      "6   (276.364, 319.091]     11   11  1.000000\n",
      "7   (319.091, 361.818]      5    5  1.000000\n",
      "8   (361.818, 404.545]      1    1  1.000000\n",
      "9   (404.545, 447.273]      6    6  1.000000\n",
      "10    (447.273, 490.0]      4    4  1.000000\n",
      "****************************************************************************************************\n",
      "                                                                                                    \n",
      "----------------------------------------------------------------------------------------------------\n",
      "blood urea\n",
      "----------------------------------------------------------------------------------------------------\n",
      "                  Band  count  sum      mean\n",
      "0      (-0.39, 35.455]    144   67  0.465278\n",
      "1     (35.455, 70.909]    156   89  0.570513\n",
      "2    (70.909, 106.364]     31   31  1.000000\n",
      "3   (106.364, 141.818]     22   22  1.000000\n",
      "4   (141.818, 177.273]     13   13  1.000000\n",
      "5   (177.273, 212.727]      6    6  1.000000\n",
      "6   (212.727, 248.182]      6    6  1.000000\n",
      "7   (248.182, 283.636]      0    0       NaN\n",
      "8   (283.636, 319.091]      1    1  1.000000\n",
      "9   (319.091, 354.545]      1    1  1.000000\n",
      "10    (354.545, 390.0]      1    1  1.000000\n",
      "****************************************************************************************************\n",
      "                                                                                                    \n",
      "----------------------------------------------------------------------------------------------------\n",
      "serum creatinine\n",
      "----------------------------------------------------------------------------------------------------\n",
      "                Band  count  sum      mean\n",
      "0     (-0.08, 7.273]    325  180  0.553846\n",
      "1    (7.273, 14.545]     48   48  1.000000\n",
      "2   (14.545, 21.818]      7    7  1.000000\n",
      "3   (21.818, 29.091]      0    0       NaN\n",
      "4   (29.091, 36.364]      1    1  1.000000\n",
      "5   (36.364, 43.636]      0    0       NaN\n",
      "6   (43.636, 50.909]      1    1  1.000000\n",
      "7   (50.909, 58.182]      0    0       NaN\n",
      "8   (58.182, 65.455]      0    0       NaN\n",
      "9   (65.455, 72.727]      0    0       NaN\n",
      "10    (72.727, 80.0]      1    1  1.000000\n",
      "****************************************************************************************************\n",
      "                                                                                                    \n",
      "----------------------------------------------------------------------------------------------------\n",
      "sodium\n",
      "----------------------------------------------------------------------------------------------------\n",
      "                  Band  count  sum      mean\n",
      "0      (-0.16, 14.545]      1    1  1.000000\n",
      "1     (14.545, 29.091]      0    0       NaN\n",
      "2     (29.091, 43.636]      0    0       NaN\n",
      "3     (43.636, 58.182]      0    0       NaN\n",
      "4     (58.182, 72.727]      0    0       NaN\n",
      "5     (72.727, 87.273]      0    0       NaN\n",
      "6    (87.273, 101.818]      1    1  1.000000\n",
      "7   (101.818, 116.364]      5    5  1.000000\n",
      "8   (116.364, 130.909]     57   57  1.000000\n",
      "9   (130.909, 145.455]    208  100  0.480769\n",
      "10    (145.455, 160.0]     41    4  0.097561\n",
      "****************************************************************************************************\n",
      "                                                                                                    \n",
      "----------------------------------------------------------------------------------------------------\n",
      "potassium\n",
      "----------------------------------------------------------------------------------------------------\n",
      "                Band  count  sum      mean\n",
      "0     (-0.05, 4.545]    276  131  0.474638\n",
      "1     (4.545, 9.091]      0    0       NaN\n",
      "2    (9.091, 13.636]     34   34  1.000000\n",
      "3   (13.636, 18.182]      0    0       NaN\n",
      "4   (18.182, 22.727]      0    0       NaN\n",
      "5   (22.727, 27.273]      0    0       NaN\n",
      "6   (27.273, 31.818]      0    0       NaN\n",
      "7   (31.818, 36.364]      0    0       NaN\n",
      "8   (36.364, 40.909]      1    1  1.000000\n",
      "9   (40.909, 45.455]      0    0       NaN\n",
      "10    (45.455, 50.0]      1    1  1.000000\n",
      "****************************************************************************************************\n",
      "                                                                                                    \n",
      "----------------------------------------------------------------------------------------------------\n",
      "hemoglobin\n",
      "----------------------------------------------------------------------------------------------------\n",
      "                Band  count  sum      mean\n",
      "0     (-0.02, 1.818]      2    2  1.000000\n",
      "1     (1.818, 3.636]      0    0       NaN\n",
      "2     (3.636, 5.455]      0    0       NaN\n",
      "3     (5.455, 7.273]      0    0       NaN\n",
      "4     (7.273, 9.091]      0    0       NaN\n",
      "5    (9.091, 10.909]    256  194  0.757812\n",
      "6   (10.909, 12.727]      0    0       NaN\n",
      "7   (12.727, 14.545]      0    0       NaN\n",
      "8   (14.545, 16.364]      0    0       NaN\n",
      "9   (16.364, 18.182]      0    0       NaN\n",
      "10    (18.182, 20.0]     90    8  0.088889\n",
      "****************************************************************************************************\n",
      "                                                                                                    \n",
      "----------------------------------------------------------------------------------------------------\n",
      "packed cell volume\n",
      "----------------------------------------------------------------------------------------------------\n",
      "                Band  count  sum      mean\n",
      "0     (9.96, 13.636]      2    2  1.000000\n",
      "1   (13.636, 17.273]      0    0       NaN\n",
      "2   (17.273, 20.909]     23   23  1.000000\n",
      "3   (20.909, 24.545]      0    0       NaN\n",
      "4   (24.545, 28.182]      0    0       NaN\n",
      "5   (28.182, 31.818]     82   82  1.000000\n",
      "6   (31.818, 35.455]      0    0       NaN\n",
      "7   (35.455, 39.091]      0    0       NaN\n",
      "8   (39.091, 42.727]    141   70  0.496454\n",
      "9   (42.727, 46.364]      0    0       NaN\n",
      "10    (46.364, 50.0]     81    6  0.074074\n",
      "****************************************************************************************************\n",
      "                                                                                                    \n",
      "----------------------------------------------------------------------------------------------------\n",
      "white blood cell count\n",
      "----------------------------------------------------------------------------------------------------\n",
      "                  Band  count  sum      mean\n",
      "0     (2175.8, 4400.0]     14   10  0.714286\n",
      "1     (4400.0, 6600.0]     64   25  0.390625\n",
      "2     (6600.0, 8800.0]     95   41  0.431579\n",
      "3    (8800.0, 11000.0]     89   43  0.483146\n",
      "4   (11000.0, 13200.0]     19   19  1.000000\n",
      "5   (13200.0, 15400.0]      6    6  1.000000\n",
      "6   (15400.0, 17600.0]      3    3  1.000000\n",
      "7   (17600.0, 19800.0]      2    2  1.000000\n",
      "8   (19800.0, 22000.0]      1    1  1.000000\n",
      "9   (22000.0, 24200.0]      0    0       NaN\n",
      "10  (24200.0, 26400.0]      1    1  1.000000\n",
      "****************************************************************************************************\n",
      "                                                                                                    \n",
      "----------------------------------------------------------------------------------------------------\n",
      "red blood cell count\n",
      "----------------------------------------------------------------------------------------------------\n",
      "              Band  count  sum      mean\n",
      "0   (-0.01, 0.909]    166  116  0.698795\n",
      "1   (0.909, 1.818]      0    0       NaN\n",
      "2   (1.818, 2.727]      0    0       NaN\n",
      "3   (2.727, 3.636]      0    0       NaN\n",
      "4   (3.636, 4.545]      0    0       NaN\n",
      "5   (4.545, 5.455]      0    0       NaN\n",
      "6   (5.455, 6.364]      0    0       NaN\n",
      "7   (6.364, 7.273]      0    0       NaN\n",
      "8   (7.273, 8.182]      0    0       NaN\n",
      "9   (8.182, 9.091]      0    0       NaN\n",
      "10   (9.091, 10.0]    103   10  0.097087\n",
      "****************************************************************************************************\n",
      "                                                                                                    \n"
     ]
    }
   ],
   "source": [
    "for i in numerical_col:\n",
    "    Base_df['Band'] = pd.cut(Base_df[i].round(-1), 11)\n",
    "    temp = Base_df[['Band', Target]].groupby(['Band'], as_index=False).agg(\n",
    "        count=(Target, 'count'), sum=(Target, sum),mean = (Target, np.average)).sort_values(by='Band', ascending=True)\n",
    "\n",
    "    print('-'*100)\n",
    "    print(Attributes_Description[i])\n",
    "    print('-'*100)\n",
    "    print(temp)\n",
    "    print('*'*100)\n",
    "    print(' '*100)\n",
    "Base_df.drop(['Band'], axis=1,inplace = True)"
   ]
  },
  {
   "cell_type": "code",
   "execution_count": 20,
   "metadata": {},
   "outputs": [],
   "source": [
    "# Making the list of target columns for excluding these while modelling\n",
    "Target_cols = ['class','class_num']"
   ]
  },
  {
   "cell_type": "markdown",
   "metadata": {},
   "source": [
    "## Train Test Split "
   ]
  },
  {
   "cell_type": "code",
   "execution_count": 21,
   "metadata": {},
   "outputs": [
    {
     "name": "stdout",
     "output_type": "stream",
     "text": [
      "X_train shape: (280, 24) \n",
      "X_test shape: (120, 24)\n",
      "y_train mean: class_num    0.62\n",
      "dtype: float64 \n",
      "y_test mean: class_num    0.62\n",
      "dtype: float64\n",
      "26 features: ['age', 'bp', 'sg', 'al', 'su', 'rbc', 'pc', 'pcc', 'ba', 'bgr', 'bu', 'sc', 'sod', 'pot', 'hemo', 'pcv', 'wbcc', 'rbcc', 'htn', 'dm', 'cad', 'appet', 'pe', 'ane']\n"
     ]
    }
   ],
   "source": [
    "from sklearn import model_selection\n",
    "train, test = model_selection.train_test_split(Base_df, \n",
    "                      test_size=0.3)\n",
    "\n",
    "## print info\n",
    "print(\"X_train shape:\", train.drop(Target_cols,axis=1).shape, \"\\nX_test shape:\", test.drop(Target_cols,axis=1).shape)\n",
    "print(\"y_train mean:\", round(np.mean(train[Target_cols]),2), \"\\ny_test mean:\", round(np.mean(test[Target_cols]),2))\n",
    "print(train.shape[1], \"features:\", train.drop(Target_cols,axis=1).columns.to_list())"
   ]
  },
  {
   "cell_type": "markdown",
   "metadata": {},
   "source": [
    "## Mean imputation in numerical fields"
   ]
  },
  {
   "cell_type": "code",
   "execution_count": 22,
   "metadata": {},
   "outputs": [
    {
     "name": "stderr",
     "output_type": "stream",
     "text": [
      "/usr/local/anaconda3/lib/python3.7/site-packages/ipykernel_launcher.py:6: SettingWithCopyWarning: \n",
      "A value is trying to be set on a copy of a slice from a DataFrame.\n",
      "Try using .loc[row_indexer,col_indexer] = value instead\n",
      "\n",
      "See the caveats in the documentation: https://pandas.pydata.org/pandas-docs/stable/user_guide/indexing.html#returning-a-view-versus-a-copy\n",
      "  \n",
      "/usr/local/anaconda3/lib/python3.7/site-packages/pandas/core/indexing.py:1738: SettingWithCopyWarning: \n",
      "A value is trying to be set on a copy of a slice from a DataFrame.\n",
      "Try using .loc[row_indexer,col_indexer] = value instead\n",
      "\n",
      "See the caveats in the documentation: https://pandas.pydata.org/pandas-docs/stable/user_guide/indexing.html#returning-a-view-versus-a-copy\n",
      "  self._setitem_single_column(loc, value[:, i].tolist(), pi)\n",
      "/usr/local/anaconda3/lib/python3.7/site-packages/ipykernel_launcher.py:7: SettingWithCopyWarning: \n",
      "A value is trying to be set on a copy of a slice from a DataFrame.\n",
      "Try using .loc[row_indexer,col_indexer] = value instead\n",
      "\n",
      "See the caveats in the documentation: https://pandas.pydata.org/pandas-docs/stable/user_guide/indexing.html#returning-a-view-versus-a-copy\n",
      "  import sys\n",
      "/usr/local/anaconda3/lib/python3.7/site-packages/pandas/core/indexing.py:1738: SettingWithCopyWarning: \n",
      "A value is trying to be set on a copy of a slice from a DataFrame.\n",
      "Try using .loc[row_indexer,col_indexer] = value instead\n",
      "\n",
      "See the caveats in the documentation: https://pandas.pydata.org/pandas-docs/stable/user_guide/indexing.html#returning-a-view-versus-a-copy\n",
      "  self._setitem_single_column(loc, value[:, i].tolist(), pi)\n"
     ]
    }
   ],
   "source": [
    "# To calculate mean use imputer class\n",
    "from sklearn.impute import SimpleImputer\n",
    "imputer = SimpleImputer(missing_values=np.nan, strategy='mean')\n",
    "\n",
    "imputer = imputer.fit(train[numerical_col])\n",
    "train[numerical_col] = imputer.transform(train[numerical_col])\n",
    "test[numerical_col] = imputer.transform(test[numerical_col])\n"
   ]
  },
  {
   "cell_type": "code",
   "execution_count": 23,
   "metadata": {},
   "outputs": [
    {
     "data": {
      "text/html": [
       "<div>\n",
       "<style scoped>\n",
       "    .dataframe tbody tr th:only-of-type {\n",
       "        vertical-align: middle;\n",
       "    }\n",
       "\n",
       "    .dataframe tbody tr th {\n",
       "        vertical-align: top;\n",
       "    }\n",
       "\n",
       "    .dataframe thead th {\n",
       "        text-align: right;\n",
       "    }\n",
       "</style>\n",
       "<table border=\"1\" class=\"dataframe\">\n",
       "  <thead>\n",
       "    <tr style=\"text-align: right;\">\n",
       "      <th></th>\n",
       "      <th>age</th>\n",
       "      <th>bp</th>\n",
       "      <th>sg</th>\n",
       "      <th>al</th>\n",
       "      <th>su</th>\n",
       "      <th>rbc</th>\n",
       "      <th>pc</th>\n",
       "      <th>pcc</th>\n",
       "      <th>ba</th>\n",
       "      <th>bgr</th>\n",
       "      <th>...</th>\n",
       "      <th>wbcc</th>\n",
       "      <th>rbcc</th>\n",
       "      <th>htn</th>\n",
       "      <th>dm</th>\n",
       "      <th>cad</th>\n",
       "      <th>appet</th>\n",
       "      <th>pe</th>\n",
       "      <th>ane</th>\n",
       "      <th>class</th>\n",
       "      <th>class_num</th>\n",
       "    </tr>\n",
       "  </thead>\n",
       "  <tbody>\n",
       "    <tr>\n",
       "      <th>294</th>\n",
       "      <td>75.0</td>\n",
       "      <td>60.0</td>\n",
       "      <td>1.02</td>\n",
       "      <td>0.0</td>\n",
       "      <td>0.0</td>\n",
       "      <td>normal</td>\n",
       "      <td>normal</td>\n",
       "      <td>notpresent</td>\n",
       "      <td>notpresent</td>\n",
       "      <td>110.0</td>\n",
       "      <td>...</td>\n",
       "      <td>8300.000000</td>\n",
       "      <td>5.800000</td>\n",
       "      <td>no</td>\n",
       "      <td>no</td>\n",
       "      <td>no</td>\n",
       "      <td>good</td>\n",
       "      <td>no</td>\n",
       "      <td>no</td>\n",
       "      <td>notckd</td>\n",
       "      <td>0</td>\n",
       "    </tr>\n",
       "    <tr>\n",
       "      <th>61</th>\n",
       "      <td>67.0</td>\n",
       "      <td>80.0</td>\n",
       "      <td>1.01</td>\n",
       "      <td>1.0</td>\n",
       "      <td>3.0</td>\n",
       "      <td>normal</td>\n",
       "      <td>abnormal</td>\n",
       "      <td>notpresent</td>\n",
       "      <td>notpresent</td>\n",
       "      <td>182.0</td>\n",
       "      <td>...</td>\n",
       "      <td>8321.890547</td>\n",
       "      <td>4.705464</td>\n",
       "      <td>no</td>\n",
       "      <td>no</td>\n",
       "      <td>no</td>\n",
       "      <td>good</td>\n",
       "      <td>yes</td>\n",
       "      <td>no</td>\n",
       "      <td>ckd</td>\n",
       "      <td>1</td>\n",
       "    </tr>\n",
       "    <tr>\n",
       "      <th>125</th>\n",
       "      <td>72.0</td>\n",
       "      <td>90.0</td>\n",
       "      <td>Novalue</td>\n",
       "      <td>0.0</td>\n",
       "      <td>0.0</td>\n",
       "      <td>Novalue</td>\n",
       "      <td>Novalue</td>\n",
       "      <td>notpresent</td>\n",
       "      <td>notpresent</td>\n",
       "      <td>308.0</td>\n",
       "      <td>...</td>\n",
       "      <td>8321.890547</td>\n",
       "      <td>4.705464</td>\n",
       "      <td>yes</td>\n",
       "      <td>yes</td>\n",
       "      <td>no</td>\n",
       "      <td>poor</td>\n",
       "      <td>no</td>\n",
       "      <td>no</td>\n",
       "      <td>ckd</td>\n",
       "      <td>1</td>\n",
       "    </tr>\n",
       "    <tr>\n",
       "      <th>25</th>\n",
       "      <td>61.0</td>\n",
       "      <td>60.0</td>\n",
       "      <td>1.025</td>\n",
       "      <td>0.0</td>\n",
       "      <td>0.0</td>\n",
       "      <td>Novalue</td>\n",
       "      <td>normal</td>\n",
       "      <td>notpresent</td>\n",
       "      <td>notpresent</td>\n",
       "      <td>108.0</td>\n",
       "      <td>...</td>\n",
       "      <td>8400.000000</td>\n",
       "      <td>3.700000</td>\n",
       "      <td>yes</td>\n",
       "      <td>yes</td>\n",
       "      <td>no</td>\n",
       "      <td>good</td>\n",
       "      <td>no</td>\n",
       "      <td>yes</td>\n",
       "      <td>ckd</td>\n",
       "      <td>1</td>\n",
       "    </tr>\n",
       "    <tr>\n",
       "      <th>118</th>\n",
       "      <td>55.0</td>\n",
       "      <td>70.0</td>\n",
       "      <td>1.01</td>\n",
       "      <td>3.0</td>\n",
       "      <td>0.0</td>\n",
       "      <td>Novalue</td>\n",
       "      <td>normal</td>\n",
       "      <td>notpresent</td>\n",
       "      <td>notpresent</td>\n",
       "      <td>99.0</td>\n",
       "      <td>...</td>\n",
       "      <td>8321.890547</td>\n",
       "      <td>4.705464</td>\n",
       "      <td>no</td>\n",
       "      <td>no</td>\n",
       "      <td>no</td>\n",
       "      <td>poor</td>\n",
       "      <td>yes</td>\n",
       "      <td>no</td>\n",
       "      <td>ckd</td>\n",
       "      <td>1</td>\n",
       "    </tr>\n",
       "    <tr>\n",
       "      <th>...</th>\n",
       "      <td>...</td>\n",
       "      <td>...</td>\n",
       "      <td>...</td>\n",
       "      <td>...</td>\n",
       "      <td>...</td>\n",
       "      <td>...</td>\n",
       "      <td>...</td>\n",
       "      <td>...</td>\n",
       "      <td>...</td>\n",
       "      <td>...</td>\n",
       "      <td>...</td>\n",
       "      <td>...</td>\n",
       "      <td>...</td>\n",
       "      <td>...</td>\n",
       "      <td>...</td>\n",
       "      <td>...</td>\n",
       "      <td>...</td>\n",
       "      <td>...</td>\n",
       "      <td>...</td>\n",
       "      <td>...</td>\n",
       "      <td>...</td>\n",
       "    </tr>\n",
       "    <tr>\n",
       "      <th>290</th>\n",
       "      <td>54.0</td>\n",
       "      <td>70.0</td>\n",
       "      <td>1.02</td>\n",
       "      <td>0.0</td>\n",
       "      <td>0.0</td>\n",
       "      <td>Novalue</td>\n",
       "      <td>Novalue</td>\n",
       "      <td>Novalue</td>\n",
       "      <td>Novalue</td>\n",
       "      <td>76.0</td>\n",
       "      <td>...</td>\n",
       "      <td>8400.000000</td>\n",
       "      <td>5.900000</td>\n",
       "      <td>no</td>\n",
       "      <td>no</td>\n",
       "      <td>no</td>\n",
       "      <td>good</td>\n",
       "      <td>no</td>\n",
       "      <td>no</td>\n",
       "      <td>notckd</td>\n",
       "      <td>0</td>\n",
       "    </tr>\n",
       "    <tr>\n",
       "      <th>319</th>\n",
       "      <td>30.0</td>\n",
       "      <td>60.0</td>\n",
       "      <td>1.02</td>\n",
       "      <td>0.0</td>\n",
       "      <td>0.0</td>\n",
       "      <td>normal</td>\n",
       "      <td>normal</td>\n",
       "      <td>notpresent</td>\n",
       "      <td>notpresent</td>\n",
       "      <td>138.0</td>\n",
       "      <td>...</td>\n",
       "      <td>8321.890547</td>\n",
       "      <td>4.705464</td>\n",
       "      <td>no</td>\n",
       "      <td>no</td>\n",
       "      <td>no</td>\n",
       "      <td>good</td>\n",
       "      <td>no</td>\n",
       "      <td>no</td>\n",
       "      <td>notckd</td>\n",
       "      <td>0</td>\n",
       "    </tr>\n",
       "    <tr>\n",
       "      <th>10</th>\n",
       "      <td>50.0</td>\n",
       "      <td>60.0</td>\n",
       "      <td>1.01</td>\n",
       "      <td>2.0</td>\n",
       "      <td>4.0</td>\n",
       "      <td>Novalue</td>\n",
       "      <td>abnormal</td>\n",
       "      <td>present</td>\n",
       "      <td>notpresent</td>\n",
       "      <td>490.0</td>\n",
       "      <td>...</td>\n",
       "      <td>8321.890547</td>\n",
       "      <td>4.705464</td>\n",
       "      <td>yes</td>\n",
       "      <td>yes</td>\n",
       "      <td>no</td>\n",
       "      <td>good</td>\n",
       "      <td>no</td>\n",
       "      <td>yes</td>\n",
       "      <td>ckd</td>\n",
       "      <td>1</td>\n",
       "    </tr>\n",
       "    <tr>\n",
       "      <th>93</th>\n",
       "      <td>73.0</td>\n",
       "      <td>100.0</td>\n",
       "      <td>1.01</td>\n",
       "      <td>3.0</td>\n",
       "      <td>2.0</td>\n",
       "      <td>abnormal</td>\n",
       "      <td>abnormal</td>\n",
       "      <td>present</td>\n",
       "      <td>notpresent</td>\n",
       "      <td>295.0</td>\n",
       "      <td>...</td>\n",
       "      <td>7000.000000</td>\n",
       "      <td>3.200000</td>\n",
       "      <td>yes</td>\n",
       "      <td>yes</td>\n",
       "      <td>yes</td>\n",
       "      <td>poor</td>\n",
       "      <td>no</td>\n",
       "      <td>no</td>\n",
       "      <td>ckd</td>\n",
       "      <td>1</td>\n",
       "    </tr>\n",
       "    <tr>\n",
       "      <th>152</th>\n",
       "      <td>39.0</td>\n",
       "      <td>70.0</td>\n",
       "      <td>1.01</td>\n",
       "      <td>0.0</td>\n",
       "      <td>0.0</td>\n",
       "      <td>Novalue</td>\n",
       "      <td>normal</td>\n",
       "      <td>notpresent</td>\n",
       "      <td>notpresent</td>\n",
       "      <td>121.0</td>\n",
       "      <td>...</td>\n",
       "      <td>8321.890547</td>\n",
       "      <td>4.705464</td>\n",
       "      <td>no</td>\n",
       "      <td>yes</td>\n",
       "      <td>no</td>\n",
       "      <td>good</td>\n",
       "      <td>no</td>\n",
       "      <td>no</td>\n",
       "      <td>ckd</td>\n",
       "      <td>1</td>\n",
       "    </tr>\n",
       "  </tbody>\n",
       "</table>\n",
       "<p>280 rows × 26 columns</p>\n",
       "</div>"
      ],
      "text/plain": [
       "      age     bp       sg   al   su       rbc        pc         pcc  \\\n",
       "294  75.0   60.0     1.02  0.0  0.0    normal    normal  notpresent   \n",
       "61   67.0   80.0     1.01  1.0  3.0    normal  abnormal  notpresent   \n",
       "125  72.0   90.0  Novalue  0.0  0.0   Novalue   Novalue  notpresent   \n",
       "25   61.0   60.0    1.025  0.0  0.0   Novalue    normal  notpresent   \n",
       "118  55.0   70.0     1.01  3.0  0.0   Novalue    normal  notpresent   \n",
       "..    ...    ...      ...  ...  ...       ...       ...         ...   \n",
       "290  54.0   70.0     1.02  0.0  0.0   Novalue   Novalue     Novalue   \n",
       "319  30.0   60.0     1.02  0.0  0.0    normal    normal  notpresent   \n",
       "10   50.0   60.0     1.01  2.0  4.0   Novalue  abnormal     present   \n",
       "93   73.0  100.0     1.01  3.0  2.0  abnormal  abnormal     present   \n",
       "152  39.0   70.0     1.01  0.0  0.0   Novalue    normal  notpresent   \n",
       "\n",
       "             ba    bgr  ...         wbcc      rbcc  htn   dm  cad  appet   pe  \\\n",
       "294  notpresent  110.0  ...  8300.000000  5.800000   no   no   no   good   no   \n",
       "61   notpresent  182.0  ...  8321.890547  4.705464   no   no   no   good  yes   \n",
       "125  notpresent  308.0  ...  8321.890547  4.705464  yes  yes   no   poor   no   \n",
       "25   notpresent  108.0  ...  8400.000000  3.700000  yes  yes   no   good   no   \n",
       "118  notpresent   99.0  ...  8321.890547  4.705464   no   no   no   poor  yes   \n",
       "..          ...    ...  ...          ...       ...  ...  ...  ...    ...  ...   \n",
       "290     Novalue   76.0  ...  8400.000000  5.900000   no   no   no   good   no   \n",
       "319  notpresent  138.0  ...  8321.890547  4.705464   no   no   no   good   no   \n",
       "10   notpresent  490.0  ...  8321.890547  4.705464  yes  yes   no   good   no   \n",
       "93   notpresent  295.0  ...  7000.000000  3.200000  yes  yes  yes   poor   no   \n",
       "152  notpresent  121.0  ...  8321.890547  4.705464   no  yes   no   good   no   \n",
       "\n",
       "     ane   class class_num  \n",
       "294   no  notckd         0  \n",
       "61    no     ckd         1  \n",
       "125   no     ckd         1  \n",
       "25   yes     ckd         1  \n",
       "118   no     ckd         1  \n",
       "..   ...     ...       ...  \n",
       "290   no  notckd         0  \n",
       "319   no  notckd         0  \n",
       "10   yes     ckd         1  \n",
       "93    no     ckd         1  \n",
       "152   no     ckd         1  \n",
       "\n",
       "[280 rows x 26 columns]"
      ]
     },
     "execution_count": 23,
     "metadata": {},
     "output_type": "execute_result"
    }
   ],
   "source": [
    "train"
   ]
  },
  {
   "cell_type": "markdown",
   "metadata": {},
   "source": [
    "## Binning Age variable"
   ]
  },
  {
   "cell_type": "code",
   "execution_count": 24,
   "metadata": {},
   "outputs": [
    {
     "name": "stderr",
     "output_type": "stream",
     "text": [
      "/usr/local/anaconda3/lib/python3.7/site-packages/ipykernel_launcher.py:3: SettingWithCopyWarning: \n",
      "A value is trying to be set on a copy of a slice from a DataFrame.\n",
      "Try using .loc[row_indexer,col_indexer] = value instead\n",
      "\n",
      "See the caveats in the documentation: https://pandas.pydata.org/pandas-docs/stable/user_guide/indexing.html#returning-a-view-versus-a-copy\n",
      "  This is separate from the ipykernel package so we can avoid doing imports until\n",
      "/usr/local/anaconda3/lib/python3.7/site-packages/ipykernel_launcher.py:4: SettingWithCopyWarning: \n",
      "A value is trying to be set on a copy of a slice from a DataFrame.\n",
      "Try using .loc[row_indexer,col_indexer] = value instead\n",
      "\n",
      "See the caveats in the documentation: https://pandas.pydata.org/pandas-docs/stable/user_guide/indexing.html#returning-a-view-versus-a-copy\n",
      "  after removing the cwd from sys.path.\n"
     ]
    },
    {
     "data": {
      "text/html": [
       "<div>\n",
       "<style scoped>\n",
       "    .dataframe tbody tr th:only-of-type {\n",
       "        vertical-align: middle;\n",
       "    }\n",
       "\n",
       "    .dataframe tbody tr th {\n",
       "        vertical-align: top;\n",
       "    }\n",
       "\n",
       "    .dataframe thead th {\n",
       "        text-align: right;\n",
       "    }\n",
       "</style>\n",
       "<table border=\"1\" class=\"dataframe\">\n",
       "  <thead>\n",
       "    <tr style=\"text-align: right;\">\n",
       "      <th></th>\n",
       "      <th>Age_Band</th>\n",
       "      <th>count</th>\n",
       "      <th>sum</th>\n",
       "      <th>mean</th>\n",
       "    </tr>\n",
       "  </thead>\n",
       "  <tbody>\n",
       "    <tr>\n",
       "      <th>0</th>\n",
       "      <td>(0, 10]</td>\n",
       "      <td>8</td>\n",
       "      <td>8</td>\n",
       "      <td>1.000000</td>\n",
       "    </tr>\n",
       "    <tr>\n",
       "      <th>1</th>\n",
       "      <td>(10, 40]</td>\n",
       "      <td>62</td>\n",
       "      <td>23</td>\n",
       "      <td>0.370968</td>\n",
       "    </tr>\n",
       "    <tr>\n",
       "      <th>2</th>\n",
       "      <td>(40, 60]</td>\n",
       "      <td>121</td>\n",
       "      <td>77</td>\n",
       "      <td>0.636364</td>\n",
       "    </tr>\n",
       "    <tr>\n",
       "      <th>3</th>\n",
       "      <td>(60, 1000]</td>\n",
       "      <td>89</td>\n",
       "      <td>67</td>\n",
       "      <td>0.752809</td>\n",
       "    </tr>\n",
       "  </tbody>\n",
       "</table>\n",
       "</div>"
      ],
      "text/plain": [
       "     Age_Band  count  sum      mean\n",
       "0     (0, 10]      8    8  1.000000\n",
       "1    (10, 40]     62   23  0.370968\n",
       "2    (40, 60]    121   77  0.636364\n",
       "3  (60, 1000]     89   67  0.752809"
      ]
     },
     "execution_count": 24,
     "metadata": {},
     "output_type": "execute_result"
    }
   ],
   "source": [
    "# Binnig Age Variables\n",
    "cut_bins = [0,10,40,60,1000]\n",
    "train['Age_Band'] = pd.cut(train.age, bins=cut_bins)\n",
    "test['Age_Band'] = pd.cut(test.age, bins=cut_bins)\n",
    "Base_df['Age_Band'] = pd.cut(Base_df.age, bins=cut_bins)\n",
    "\n",
    "i = 'age'\n",
    "\n",
    "temp = train[['Age_Band', Target]].groupby(['Age_Band'], as_index=False).agg(\n",
    "    count=(Target, 'count'), sum=(Target, sum),mean = (Target, np.average)).sort_values(by='Age_Band', ascending=True)\n",
    "temp"
   ]
  },
  {
   "cell_type": "markdown",
   "metadata": {},
   "source": [
    "## Dropping Age variable"
   ]
  },
  {
   "cell_type": "code",
   "execution_count": 25,
   "metadata": {},
   "outputs": [
    {
     "name": "stderr",
     "output_type": "stream",
     "text": [
      "/usr/local/anaconda3/lib/python3.7/site-packages/pandas/core/frame.py:4315: SettingWithCopyWarning: \n",
      "A value is trying to be set on a copy of a slice from a DataFrame\n",
      "\n",
      "See the caveats in the documentation: https://pandas.pydata.org/pandas-docs/stable/user_guide/indexing.html#returning-a-view-versus-a-copy\n",
      "  errors=errors,\n"
     ]
    }
   ],
   "source": [
    "\n",
    "train.drop(['age'], axis=1,inplace = True)\n",
    "test.drop(['age'], axis=1,inplace = True)"
   ]
  },
  {
   "cell_type": "markdown",
   "metadata": {},
   "source": [
    "## Appending 'Age_Band' as new attribute in nominal_col list"
   ]
  },
  {
   "cell_type": "code",
   "execution_count": 26,
   "metadata": {},
   "outputs": [
    {
     "data": {
      "text/plain": [
       "['sg',\n",
       " 'al',\n",
       " 'su',\n",
       " 'rbc',\n",
       " 'pc',\n",
       " 'pcc',\n",
       " 'ba',\n",
       " 'htn',\n",
       " 'dm',\n",
       " 'cad',\n",
       " 'appet',\n",
       " 'pe',\n",
       " 'ane',\n",
       " 'Age_Band']"
      ]
     },
     "execution_count": 26,
     "metadata": {},
     "output_type": "execute_result"
    }
   ],
   "source": [
    "nominal_col.append('Age_Band')\n",
    "nominal_col"
   ]
  },
  {
   "cell_type": "code",
   "execution_count": 27,
   "metadata": {},
   "outputs": [],
   "source": [
    "# Removing Age from Numrical column list\n",
    "numerical_col.remove('age')"
   ]
  },
  {
   "cell_type": "markdown",
   "metadata": {},
   "source": [
    "## Performing one hot encoding for Nominal Columns"
   ]
  },
  {
   "cell_type": "code",
   "execution_count": 28,
   "metadata": {},
   "outputs": [
    {
     "name": "stderr",
     "output_type": "stream",
     "text": [
      "/usr/local/anaconda3/lib/python3.7/site-packages/pandas/core/frame.py:3191: SettingWithCopyWarning: \n",
      "A value is trying to be set on a copy of a slice from a DataFrame.\n",
      "Try using .loc[row_indexer,col_indexer] = value instead\n",
      "\n",
      "See the caveats in the documentation: https://pandas.pydata.org/pandas-docs/stable/user_guide/indexing.html#returning-a-view-versus-a-copy\n",
      "  self[k1] = value[k2]\n",
      "/usr/local/anaconda3/lib/python3.7/site-packages/ipykernel_launcher.py:12: SettingWithCopyWarning: \n",
      "A value is trying to be set on a copy of a slice from a DataFrame.\n",
      "Try using .loc[row_indexer,col_indexer] = value instead\n",
      "\n",
      "See the caveats in the documentation: https://pandas.pydata.org/pandas-docs/stable/user_guide/indexing.html#returning-a-view-versus-a-copy\n",
      "  if sys.path[0] == '':\n",
      "/usr/local/anaconda3/lib/python3.7/site-packages/pandas/core/indexing.py:1738: SettingWithCopyWarning: \n",
      "A value is trying to be set on a copy of a slice from a DataFrame.\n",
      "Try using .loc[row_indexer,col_indexer] = value instead\n",
      "\n",
      "See the caveats in the documentation: https://pandas.pydata.org/pandas-docs/stable/user_guide/indexing.html#returning-a-view-versus-a-copy\n",
      "  self._setitem_single_column(loc, value[:, i].tolist(), pi)\n",
      "/usr/local/anaconda3/lib/python3.7/site-packages/pandas/core/frame.py:4315: SettingWithCopyWarning: \n",
      "A value is trying to be set on a copy of a slice from a DataFrame\n",
      "\n",
      "See the caveats in the documentation: https://pandas.pydata.org/pandas-docs/stable/user_guide/indexing.html#returning-a-view-versus-a-copy\n",
      "  errors=errors,\n",
      "/usr/local/anaconda3/lib/python3.7/site-packages/ipykernel_launcher.py:15: SettingWithCopyWarning: \n",
      "A value is trying to be set on a copy of a slice from a DataFrame.\n",
      "Try using .loc[row_indexer,col_indexer] = value instead\n",
      "\n",
      "See the caveats in the documentation: https://pandas.pydata.org/pandas-docs/stable/user_guide/indexing.html#returning-a-view-versus-a-copy\n",
      "  from ipykernel import kernelapp as app\n",
      "/usr/local/anaconda3/lib/python3.7/site-packages/pandas/core/indexing.py:1738: SettingWithCopyWarning: \n",
      "A value is trying to be set on a copy of a slice from a DataFrame.\n",
      "Try using .loc[row_indexer,col_indexer] = value instead\n",
      "\n",
      "See the caveats in the documentation: https://pandas.pydata.org/pandas-docs/stable/user_guide/indexing.html#returning-a-view-versus-a-copy\n",
      "  self._setitem_single_column(loc, value[:, i].tolist(), pi)\n",
      "/usr/local/anaconda3/lib/python3.7/site-packages/pandas/core/frame.py:4315: SettingWithCopyWarning: \n",
      "A value is trying to be set on a copy of a slice from a DataFrame\n",
      "\n",
      "See the caveats in the documentation: https://pandas.pydata.org/pandas-docs/stable/user_guide/indexing.html#returning-a-view-versus-a-copy\n",
      "  errors=errors,\n"
     ]
    }
   ],
   "source": [
    "from sklearn import preprocessing\n",
    "\n",
    "train[nominal_col] = train[nominal_col].astype('str')\n",
    "test[nominal_col] = test[nominal_col].astype('str')\n",
    "\n",
    "enc = preprocessing.OneHotEncoder()\n",
    "\n",
    "# 2. FIT\n",
    "enc.fit(train[nominal_col].append(test[nominal_col]))\n",
    "\n",
    "# 3. Transform\n",
    "train[enc.get_feature_names(nominal_col)] = enc.transform(train[nominal_col]).toarray()\n",
    "train.drop(nominal_col, axis=1,inplace = True)\n",
    "\n",
    "test[enc.get_feature_names(nominal_col)] = enc.transform(test[nominal_col]).toarray()\n",
    "test.drop(nominal_col, axis=1,inplace = True)\n"
   ]
  },
  {
   "cell_type": "markdown",
   "metadata": {},
   "source": [
    "## Normalising all features between 0-1 for feeding them into model "
   ]
  },
  {
   "cell_type": "code",
   "execution_count": 29,
   "metadata": {},
   "outputs": [
    {
     "data": {
      "text/html": [
       "<div>\n",
       "<style scoped>\n",
       "    .dataframe tbody tr th:only-of-type {\n",
       "        vertical-align: middle;\n",
       "    }\n",
       "\n",
       "    .dataframe tbody tr th {\n",
       "        vertical-align: top;\n",
       "    }\n",
       "\n",
       "    .dataframe thead th {\n",
       "        text-align: right;\n",
       "    }\n",
       "</style>\n",
       "<table border=\"1\" class=\"dataframe\">\n",
       "  <thead>\n",
       "    <tr style=\"text-align: right;\">\n",
       "      <th></th>\n",
       "      <th>bp</th>\n",
       "      <th>bgr</th>\n",
       "      <th>bu</th>\n",
       "      <th>sc</th>\n",
       "      <th>sod</th>\n",
       "      <th>pot</th>\n",
       "      <th>hemo</th>\n",
       "      <th>pcv</th>\n",
       "      <th>wbcc</th>\n",
       "      <th>rbcc</th>\n",
       "      <th>...</th>\n",
       "      <th>appet_poor</th>\n",
       "      <th>pe_no</th>\n",
       "      <th>pe_yes</th>\n",
       "      <th>ane_no</th>\n",
       "      <th>ane_yes</th>\n",
       "      <th>Age_Band_(0, 10]</th>\n",
       "      <th>Age_Band_(10, 40]</th>\n",
       "      <th>Age_Band_(40, 60]</th>\n",
       "      <th>Age_Band_(60, 1000]</th>\n",
       "      <th>Class_num</th>\n",
       "    </tr>\n",
       "  </thead>\n",
       "  <tbody>\n",
       "    <tr>\n",
       "      <th>95</th>\n",
       "      <td>0.307692</td>\n",
       "      <td>0.153846</td>\n",
       "      <td>0.060334</td>\n",
       "      <td>0.007947</td>\n",
       "      <td>0.798107</td>\n",
       "      <td>0.032877</td>\n",
       "      <td>0.636905</td>\n",
       "      <td>0.660148</td>\n",
       "      <td>0.252971</td>\n",
       "      <td>0.441604</td>\n",
       "      <td>...</td>\n",
       "      <td>0.0</td>\n",
       "      <td>0.0</td>\n",
       "      <td>1.0</td>\n",
       "      <td>0.0</td>\n",
       "      <td>1.0</td>\n",
       "      <td>0.0</td>\n",
       "      <td>0.0</td>\n",
       "      <td>0.0</td>\n",
       "      <td>1.0</td>\n",
       "      <td>1</td>\n",
       "    </tr>\n",
       "    <tr>\n",
       "      <th>217</th>\n",
       "      <td>0.384615</td>\n",
       "      <td>0.119658</td>\n",
       "      <td>0.152760</td>\n",
       "      <td>0.017219</td>\n",
       "      <td>0.861199</td>\n",
       "      <td>0.052055</td>\n",
       "      <td>0.619048</td>\n",
       "      <td>0.600000</td>\n",
       "      <td>0.342975</td>\n",
       "      <td>0.372881</td>\n",
       "      <td>...</td>\n",
       "      <td>0.0</td>\n",
       "      <td>1.0</td>\n",
       "      <td>0.0</td>\n",
       "      <td>1.0</td>\n",
       "      <td>0.0</td>\n",
       "      <td>0.0</td>\n",
       "      <td>0.0</td>\n",
       "      <td>0.0</td>\n",
       "      <td>1.0</td>\n",
       "      <td>1</td>\n",
       "    </tr>\n",
       "    <tr>\n",
       "      <th>308</th>\n",
       "      <td>0.230769</td>\n",
       "      <td>0.126068</td>\n",
       "      <td>0.114249</td>\n",
       "      <td>0.001325</td>\n",
       "      <td>0.823344</td>\n",
       "      <td>0.065753</td>\n",
       "      <td>0.734694</td>\n",
       "      <td>0.866667</td>\n",
       "      <td>0.194215</td>\n",
       "      <td>0.474576</td>\n",
       "      <td>...</td>\n",
       "      <td>0.0</td>\n",
       "      <td>1.0</td>\n",
       "      <td>0.0</td>\n",
       "      <td>1.0</td>\n",
       "      <td>0.0</td>\n",
       "      <td>0.0</td>\n",
       "      <td>0.0</td>\n",
       "      <td>1.0</td>\n",
       "      <td>0.0</td>\n",
       "      <td>0</td>\n",
       "    </tr>\n",
       "    <tr>\n",
       "      <th>128</th>\n",
       "      <td>0.307692</td>\n",
       "      <td>0.431624</td>\n",
       "      <td>0.422336</td>\n",
       "      <td>0.067550</td>\n",
       "      <td>0.810726</td>\n",
       "      <td>1.219178</td>\n",
       "      <td>0.340136</td>\n",
       "      <td>0.311111</td>\n",
       "      <td>0.115702</td>\n",
       "      <td>0.135593</td>\n",
       "      <td>...</td>\n",
       "      <td>0.0</td>\n",
       "      <td>1.0</td>\n",
       "      <td>0.0</td>\n",
       "      <td>0.0</td>\n",
       "      <td>1.0</td>\n",
       "      <td>0.0</td>\n",
       "      <td>0.0</td>\n",
       "      <td>1.0</td>\n",
       "      <td>0.0</td>\n",
       "      <td>1</td>\n",
       "    </tr>\n",
       "    <tr>\n",
       "      <th>302</th>\n",
       "      <td>0.153846</td>\n",
       "      <td>0.224359</td>\n",
       "      <td>0.109114</td>\n",
       "      <td>0.009272</td>\n",
       "      <td>0.886435</td>\n",
       "      <td>0.068493</td>\n",
       "      <td>0.795918</td>\n",
       "      <td>0.866667</td>\n",
       "      <td>0.252971</td>\n",
       "      <td>0.441604</td>\n",
       "      <td>...</td>\n",
       "      <td>0.0</td>\n",
       "      <td>1.0</td>\n",
       "      <td>0.0</td>\n",
       "      <td>1.0</td>\n",
       "      <td>0.0</td>\n",
       "      <td>0.0</td>\n",
       "      <td>1.0</td>\n",
       "      <td>0.0</td>\n",
       "      <td>0.0</td>\n",
       "      <td>0</td>\n",
       "    </tr>\n",
       "  </tbody>\n",
       "</table>\n",
       "<p>5 rows × 57 columns</p>\n",
       "</div>"
      ],
      "text/plain": [
       "           bp       bgr        bu        sc       sod       pot      hemo  \\\n",
       "95   0.307692  0.153846  0.060334  0.007947  0.798107  0.032877  0.636905   \n",
       "217  0.384615  0.119658  0.152760  0.017219  0.861199  0.052055  0.619048   \n",
       "308  0.230769  0.126068  0.114249  0.001325  0.823344  0.065753  0.734694   \n",
       "128  0.307692  0.431624  0.422336  0.067550  0.810726  1.219178  0.340136   \n",
       "302  0.153846  0.224359  0.109114  0.009272  0.886435  0.068493  0.795918   \n",
       "\n",
       "          pcv      wbcc      rbcc  ...  appet_poor  pe_no  pe_yes  ane_no  \\\n",
       "95   0.660148  0.252971  0.441604  ...         0.0    0.0     1.0     0.0   \n",
       "217  0.600000  0.342975  0.372881  ...         0.0    1.0     0.0     1.0   \n",
       "308  0.866667  0.194215  0.474576  ...         0.0    1.0     0.0     1.0   \n",
       "128  0.311111  0.115702  0.135593  ...         0.0    1.0     0.0     0.0   \n",
       "302  0.866667  0.252971  0.441604  ...         0.0    1.0     0.0     1.0   \n",
       "\n",
       "     ane_yes  Age_Band_(0, 10]  Age_Band_(10, 40]  Age_Band_(40, 60]  \\\n",
       "95       1.0               0.0                0.0                0.0   \n",
       "217      0.0               0.0                0.0                0.0   \n",
       "308      0.0               0.0                0.0                1.0   \n",
       "128      1.0               0.0                0.0                1.0   \n",
       "302      0.0               0.0                1.0                0.0   \n",
       "\n",
       "     Age_Band_(60, 1000]  Class_num  \n",
       "95                   1.0          1  \n",
       "217                  1.0          1  \n",
       "308                  0.0          0  \n",
       "128                  0.0          1  \n",
       "302                  0.0          0  \n",
       "\n",
       "[5 rows x 57 columns]"
      ]
     },
     "execution_count": 29,
     "metadata": {},
     "output_type": "execute_result"
    }
   ],
   "source": [
    "from sklearn import preprocessing\n",
    "scaler = preprocessing.MinMaxScaler(feature_range=(0,1))\n",
    "scaler = scaler.fit((train.drop(Target_cols, axis=1)))\n",
    "\n",
    "X_train = scaler.transform(train.drop(Target_cols, axis=1))\n",
    "train_scaled= pd.DataFrame(X_train, columns=train.drop(Target_cols, axis=1).columns, index=train.index)\n",
    "train_scaled[\"Class_num\"] = train.class_num\n",
    "train_scaled.head()\n",
    "\n",
    "\n",
    "X_test = scaler.transform(test.drop(Target_cols, axis=1))\n",
    "test_scaled= pd.DataFrame(X_test, columns=test.drop(Target_cols, axis=1).columns, index=test.index)\n",
    "test_scaled[\"Class_num\"] = test.class_num\n",
    "test_scaled.head()"
   ]
  },
  {
   "cell_type": "markdown",
   "metadata": {},
   "source": [
    "## Analysing correlation between variables for dropping hughly correlated features"
   ]
  },
  {
   "cell_type": "code",
   "execution_count": 30,
   "metadata": {},
   "outputs": [
    {
     "data": {
      "text/plain": [
       "Text(0.5, 1, 'pearson correlation')"
      ]
     },
     "execution_count": 30,
     "metadata": {},
     "output_type": "execute_result"
    },
    {
     "data": {
      "image/png": "[encoded data removed]",
      "text/plain": [
       "<Figure size 432x288 with 2 Axes>"
      ]
     },
     "metadata": {
      "needs_background": "light"
     },
     "output_type": "display_data"
    }
   ],
   "source": [
    "corr_matrix = Base_df[numerical_col].copy()\n",
    "for col in corr_matrix.columns:\n",
    "    if corr_matrix[col].dtype == \"O\":\n",
    "         corr_matrix[col] = corr_matrix[col].factorize(sort=True)[0]\n",
    "corr_matrix = corr_matrix.corr(method=\"pearson\")\n",
    "sns.heatmap(corr_matrix, vmin=-1., vmax=1., annot=True, fmt='.2f', cmap=\"YlGnBu\", cbar=True, linewidths=1)\n",
    "plt.title(\"pearson correlation\")"
   ]
  },
  {
   "cell_type": "markdown",
   "metadata": {},
   "source": [
    "### High correlation between \n",
    "* hemo & PCV \n",
    "* hemo & rbcc\n",
    "* PCV & rbcc\n",
    "\n",
    "## Checking correlation of these variables with target"
   ]
  },
  {
   "cell_type": "code",
   "execution_count": 31,
   "metadata": {},
   "outputs": [
    {
     "data": {
      "text/plain": [
       "pcv         -0.741427\n",
       "hemo        -0.768919\n",
       "rbcc        -0.699089\n",
       "class_num    1.000000\n",
       "Name: class_num, dtype: float64"
      ]
     },
     "execution_count": 31,
     "metadata": {},
     "output_type": "execute_result"
    }
   ],
   "source": [
    "Base_df[['pcv','hemo','rbcc','class_num']].corr()['class_num'][:]"
   ]
  },
  {
   "cell_type": "markdown",
   "metadata": {},
   "source": [
    "## Conclusion - Hemo is most highly correlated, hence we can drop PCV and RBCC\n",
    "## Confirming the above conclusion through Anova test"
   ]
  },
  {
   "cell_type": "markdown",
   "metadata": {},
   "source": [
    "## Performing Anova test to identify the relationship between categorical target and numerical variables"
   ]
  },
  {
   "cell_type": "code",
   "execution_count": 32,
   "metadata": {},
   "outputs": [
    {
     "name": "stdout",
     "output_type": "stream",
     "text": [
      "blood pressure\n",
      "P-Value for Anova is:  1.1804014516016069e-06\n",
      "----------------------------------------------------------------------------------------------------\n",
      "blood glucose random\n",
      "P-Value for Anova is:  2.6165162777464684e-11\n",
      "----------------------------------------------------------------------------------------------------\n",
      "blood urea\n",
      "P-Value for Anova is:  8.507542315005493e-10\n",
      "----------------------------------------------------------------------------------------------------\n",
      "serum creatinine\n",
      "P-Value for Anova is:  4.3657542435384995e-07\n",
      "----------------------------------------------------------------------------------------------------\n",
      "sodium\n",
      "P-Value for Anova is:  1.0278243345856477e-08\n",
      "----------------------------------------------------------------------------------------------------\n",
      "potassium\n",
      "P-Value for Anova is:  0.1325737156077475\n",
      "----------------------------------------------------------------------------------------------------\n",
      "hemoglobin\n",
      "P-Value for Anova is:  6.849725652129774e-45\n",
      "----------------------------------------------------------------------------------------------------\n",
      "packed cell volume\n",
      "P-Value for Anova is:  1.0402509750688997e-41\n",
      "----------------------------------------------------------------------------------------------------\n",
      "white blood cell count\n",
      "P-Value for Anova is:  0.01928112866120998\n",
      "----------------------------------------------------------------------------------------------------\n",
      "red blood cell count\n",
      "P-Value for Anova is:  2.166893572984001e-27\n",
      "----------------------------------------------------------------------------------------------------\n"
     ]
    }
   ],
   "source": [
    "for i in numerical_col:\n",
    "    DFGroupLists=train.groupby('class')[i].apply(list)\n",
    "\n",
    "    # Performing the ANOVA test\n",
    "    # We accept the Assumption(H0) only when P-Value &gt; 0.05\n",
    "    AnovaResults = f_oneway(*DFGroupLists)\n",
    "    print(Attributes_Description[i])\n",
    "    print('P-Value for Anova is: ', AnovaResults[1])\n",
    "    print('-'*100)"
   ]
  },
  {
   "cell_type": "markdown",
   "metadata": {},
   "source": [
    "## Dropping highly correlated variables"
   ]
  },
  {
   "cell_type": "code",
   "execution_count": 33,
   "metadata": {},
   "outputs": [
    {
     "name": "stderr",
     "output_type": "stream",
     "text": [
      "/usr/local/anaconda3/lib/python3.7/site-packages/pandas/core/frame.py:4315: SettingWithCopyWarning: \n",
      "A value is trying to be set on a copy of a slice from a DataFrame\n",
      "\n",
      "See the caveats in the documentation: https://pandas.pydata.org/pandas-docs/stable/user_guide/indexing.html#returning-a-view-versus-a-copy\n",
      "  errors=errors,\n"
     ]
    }
   ],
   "source": [
    "drop_features = ['pcv','rbcc']\n",
    "Selected_features = [x for x in train.columns if (x not in Target_cols) and x not in drop_features]\n",
    "\n",
    "train.drop(drop_features,axis=1,inplace = True)\n",
    "test.drop(drop_features,axis=1,inplace = True)"
   ]
  },
  {
   "cell_type": "markdown",
   "metadata": {},
   "source": [
    "### Checking feature importance from Anova and Lasso"
   ]
  },
  {
   "cell_type": "code",
   "execution_count": 34,
   "metadata": {},
   "outputs": [
    {
     "data": {
      "text/plain": [
       "<matplotlib.axes._subplots.AxesSubplot at 0x14fac9290>"
      ]
     },
     "execution_count": 34,
     "metadata": {},
     "output_type": "execute_result"
    },
    {
     "data": {
      "image/png": "[encoded data removed]",
      "text/plain": [
       "<Figure size 432x288 with 1 Axes>"
      ]
     },
     "metadata": {
      "needs_background": "light"
     },
     "output_type": "display_data"
    }
   ],
   "source": [
    "X = train.drop(Target_cols, axis=1).values\n",
    "y = train[\"class_num\"].values\n",
    "feature_names = train.drop(Target_cols, axis=1).columns\n",
    "## Anova\n",
    "selector = feature_selection.SelectKBest(score_func=  \n",
    "               feature_selection.f_classif, k=10).fit(X,y)\n",
    "anova_selected_features = feature_names[selector.get_support()]\n",
    "\n",
    "## Lasso regularization\n",
    "selector = feature_selection.SelectFromModel(estimator= \n",
    "              linear_model.LogisticRegression(C=1, penalty=\"l1\", \n",
    "              solver='liblinear'), max_features=10).fit(X,y)\n",
    "lasso_selected_features = feature_names[selector.get_support()]\n",
    " \n",
    "## Plot\n",
    "dtf_features = pd.DataFrame({\"features\":feature_names})\n",
    "dtf_features[\"anova\"] = dtf_features[\"features\"].apply(lambda x: \"anova\" if x in anova_selected_features else \"\")\n",
    "dtf_features[\"num1\"] = dtf_features[\"features\"].apply(lambda x: 1 if x in anova_selected_features else 0)\n",
    "dtf_features[\"lasso\"] = dtf_features[\"features\"].apply(lambda x: \"lasso\" if x in lasso_selected_features else \"\")\n",
    "dtf_features[\"num2\"] = dtf_features[\"features\"].apply(lambda x: 1 if x in lasso_selected_features else 0)\n",
    "dtf_features[\"method\"] = dtf_features[[\"anova\",\"lasso\"]].apply(lambda x: (x[0]+\" \"+x[1]).strip(), axis=1)\n",
    "dtf_features[\"selection\"] = dtf_features[\"num1\"] + dtf_features[\"num2\"]\n",
    "sns.barplot(y=\"features\", x=\"selection\", hue=\"method\", data=dtf_features.sort_values(\"selection\", ascending=False)[0:10], dodge=False)\n",
    "\n"
   ]
  },
  {
   "cell_type": "markdown",
   "metadata": {},
   "source": [
    "## Features Importance using random forest"
   ]
  },
  {
   "cell_type": "code",
   "execution_count": 35,
   "metadata": {},
   "outputs": [
    {
     "data": {
      "image/png": "[encoded data removed]",
      "text/plain": [
       "<Figure size 432x288 with 2 Axes>"
      ]
     },
     "metadata": {
      "needs_background": "light"
     },
     "output_type": "display_data"
    }
   ],
   "source": [
    "X = train.drop(Target_cols, axis=1).values\n",
    "y = train[\"class_num\"].values\n",
    "feature_names = train.drop(Target_cols, axis=1).columns\n",
    "## Importance\n",
    "\n",
    "model = ensemble.RandomForestClassifier(n_estimators=100,\n",
    "                      criterion=\"entropy\", random_state=0)\n",
    "model.fit(X,y)\n",
    "importances = model.feature_importances_\n",
    "## Put in a pandas dtf\n",
    "dtf_importances = pd.DataFrame({\"IMPORTANCE\":importances,\"VARIABLE\":feature_names}).sort_values(\"IMPORTANCE\",ascending=False)\n",
    "dtf_importances['cumsum'] =  dtf_importances['IMPORTANCE'].cumsum(axis=0)\n",
    "dtf_importances = dtf_importances.set_index(\"VARIABLE\")\n",
    "    \n",
    "## Plot\n",
    "fig, ax = plt.subplots(nrows=1, ncols=2, sharex=False, sharey=False)\n",
    "fig.suptitle(\"Features Importance\", fontsize=20)\n",
    "ax[0].title.set_text('variables')\n",
    "dtf_importances[[\"IMPORTANCE\"]][0:15].sort_values(by=\"IMPORTANCE\").plot(\n",
    "                kind=\"barh\", legend=False, ax=ax[0]).grid(axis=\"x\")\n",
    "ax[0].set(ylabel=\"\")\n",
    "ax[1].title.set_text('cumulative')\n",
    "dtf_importances[[\"cumsum\"]][0:15].plot(kind=\"line\", linewidth=4, \n",
    "                                 legend=False, ax=ax[1])\n",
    "ax[1].set(xlabel=\"\", xticks=np.arange(len(dtf_importances[0:15])), \n",
    "          xticklabels=dtf_importances.index[0:15])\n",
    "plt.xticks(rotation=100)\n",
    "plt.grid(axis='both')\n",
    "plt.show()"
   ]
  },
  {
   "cell_type": "code",
   "execution_count": 36,
   "metadata": {},
   "outputs": [],
   "source": [
    "\n",
    "X_train = train[Selected_features].values\n",
    "y_train = train[Target].values\n",
    "X_test = test[Selected_features].values\n",
    "y_test = test[Target].values"
   ]
  },
  {
   "cell_type": "code",
   "execution_count": 37,
   "metadata": {},
   "outputs": [
    {
     "name": "stderr",
     "output_type": "stream",
     "text": [
      "/usr/local/anaconda3/lib/python3.7/site-packages/sklearn/linear_model/_logistic.py:765: ConvergenceWarning: lbfgs failed to converge (status=1):\n",
      "STOP: TOTAL NO. of ITERATIONS REACHED LIMIT.\n",
      "\n",
      "Increase the number of iterations (max_iter) or scale the data as shown in:\n",
      "    https://scikit-learn.org/stable/modules/preprocessing.html\n",
      "Please also refer to the documentation for alternative solver options:\n",
      "    https://scikit-learn.org/stable/modules/linear_model.html#logistic-regression\n",
      "  extra_warning_msg=_LOGISTIC_SOLVER_CONVERGENCE_MSG)\n"
     ]
    },
    {
     "data": {
      "image/png": "[encoded data removed]",
      "text/plain": [
       "<Figure size 576x432 with 1 Axes>"
      ]
     },
     "metadata": {
      "needs_background": "light"
     },
     "output_type": "display_data"
    }
   ],
   "source": [
    "from sklearn.linear_model import LogisticRegression\n",
    "from sklearn.naive_bayes import GaussianNB\n",
    "from sklearn.neighbors import KNeighborsClassifier\n",
    "from sklearn.tree import DecisionTreeClassifier\n",
    "from sklearn.ensemble import RandomForestClassifier\n",
    "\n",
    "from sklearn.metrics import roc_curve, roc_auc_score\n",
    "\n",
    "\n",
    "classifiers = [LogisticRegression(random_state=1234), \n",
    "               GaussianNB()\n",
    "               ,KNeighborsClassifier(), \n",
    "               DecisionTreeClassifier(random_state=1234),\n",
    "               RandomForestClassifier(random_state=1234)]\n",
    "\n",
    "# Define a result table as a DataFrame\n",
    "result_table = pd.DataFrame(columns=['classifiers', 'fpr','tpr','auc'])\n",
    "\n",
    "# Train the models and record the results\n",
    "for cls in classifiers:\n",
    "    model = cls.fit(X_train, y_train)\n",
    "    yproba = model.predict_proba(X_test)[::,1]\n",
    "    \n",
    "    fpr, tpr, _ = roc_curve(y_test,  yproba)\n",
    "    auc = roc_auc_score(y_test, yproba)\n",
    "    \n",
    "    result_table = result_table.append({'classifiers':cls.__class__.__name__,\n",
    "                                        'fpr':fpr, \n",
    "                                        'tpr':tpr, \n",
    "                                        'auc':auc}, ignore_index=True)\n",
    "\n",
    "# Set name of the classifiers as index labels\n",
    "result_table.set_index('classifiers', inplace=True)\n",
    "\n",
    "\n",
    "fig = plt.figure(figsize=(8,6))\n",
    "\n",
    "for i in result_table.index:\n",
    "    plt.plot(result_table.loc[i]['fpr'], \n",
    "             result_table.loc[i]['tpr'], \n",
    "             label=\"{}, AUC={:.3f}\".format(i, result_table.loc[i]['auc']))\n",
    "    \n",
    "plt.plot([0,1], [0,1], color='orange', linestyle='--')\n",
    "\n",
    "plt.xticks(np.arange(0.0, 1.1, step=0.1))\n",
    "plt.xlabel(\"Flase Positive Rate\", fontsize=15)\n",
    "\n",
    "plt.yticks(np.arange(0.0, 1.1, step=0.1))\n",
    "plt.ylabel(\"True Positive Rate\", fontsize=15)\n",
    "\n",
    "plt.title('ROC Curve Analysis', fontweight='bold', fontsize=15)\n",
    "plt.legend(prop={'size':13}, loc='lower right')\n",
    "\n",
    "plt.show()"
   ]
  },
  {
   "cell_type": "code",
   "execution_count": 38,
   "metadata": {
    "scrolled": true
   },
   "outputs": [
    {
     "name": "stderr",
     "output_type": "stream",
     "text": [
      "/usr/local/anaconda3/lib/python3.7/site-packages/sklearn/linear_model/_logistic.py:765: ConvergenceWarning: lbfgs failed to converge (status=1):\n",
      "STOP: TOTAL NO. of ITERATIONS REACHED LIMIT.\n",
      "\n",
      "Increase the number of iterations (max_iter) or scale the data as shown in:\n",
      "    https://scikit-learn.org/stable/modules/preprocessing.html\n",
      "Please also refer to the documentation for alternative solver options:\n",
      "    https://scikit-learn.org/stable/modules/linear_model.html#logistic-regression\n",
      "  extra_warning_msg=_LOGISTIC_SOLVER_CONVERGENCE_MSG)\n"
     ]
    },
    {
     "data": {
      "text/plain": [
       "98.21"
      ]
     },
     "execution_count": 38,
     "metadata": {},
     "output_type": "execute_result"
    }
   ],
   "source": [
    "# Logistic Regression\n",
    "\n",
    "logreg = LogisticRegression()\n",
    "logreg.fit(X_train, y_train)\n",
    "Y_pred = logreg.predict(X_test)\n",
    "Y_pred_prob = logreg.predict_proba(X_test)[::,1]\n",
    "acc_log = round(logreg.score(X_train, y_train) * 100, 2)\n",
    "acc_log\n"
   ]
  },
  {
   "cell_type": "code",
   "execution_count": 39,
   "metadata": {},
   "outputs": [
    {
     "data": {
      "text/plain": [
       "62.5"
      ]
     },
     "execution_count": 39,
     "metadata": {},
     "output_type": "execute_result"
    }
   ],
   "source": [
    "# Support Vector Machines\n",
    "\n",
    "svc = SVC()\n",
    "svc.fit(X_train, y_train)\n",
    "Y_pred = svc.predict(X_test)\n",
    "acc_svc = round(svc.score(X_train, y_train) * 100, 2)\n",
    "acc_svc"
   ]
  },
  {
   "cell_type": "code",
   "execution_count": 40,
   "metadata": {},
   "outputs": [
    {
     "data": {
      "text/plain": [
       "86.43"
      ]
     },
     "execution_count": 40,
     "metadata": {},
     "output_type": "execute_result"
    }
   ],
   "source": [
    "knn = KNeighborsClassifier(n_neighbors = 3)\n",
    "knn.fit(X_train, y_train)\n",
    "Y_pred = knn.predict(X_test)\n",
    "acc_knn = round(knn.score(X_train, y_train) * 100, 2)\n",
    "acc_knn"
   ]
  },
  {
   "cell_type": "code",
   "execution_count": 41,
   "metadata": {},
   "outputs": [
    {
     "data": {
      "text/plain": [
       "98.93"
      ]
     },
     "execution_count": 41,
     "metadata": {},
     "output_type": "execute_result"
    }
   ],
   "source": [
    "# Gaussian Naive Bayes\n",
    "\n",
    "gaussian = GaussianNB()\n",
    "gaussian.fit(X_train, y_train)\n",
    "Y_pred = gaussian.predict(X_test)\n",
    "acc_gaussian = round(gaussian.score(X_train, y_train) * 100, 2)\n",
    "acc_gaussian"
   ]
  },
  {
   "cell_type": "code",
   "execution_count": 42,
   "metadata": {},
   "outputs": [
    {
     "data": {
      "text/plain": [
       "37.5"
      ]
     },
     "execution_count": 42,
     "metadata": {},
     "output_type": "execute_result"
    }
   ],
   "source": [
    "# Perceptron\n",
    "\n",
    "perceptron = Perceptron()\n",
    "perceptron.fit(X_train, y_train)\n",
    "Y_pred = perceptron.predict(X_test)\n",
    "acc_perceptron = round(perceptron.score(X_train, y_train) * 100, 2)\n",
    "acc_perceptron"
   ]
  },
  {
   "cell_type": "code",
   "execution_count": 43,
   "metadata": {},
   "outputs": [
    {
     "name": "stderr",
     "output_type": "stream",
     "text": [
      "/usr/local/anaconda3/lib/python3.7/site-packages/sklearn/svm/_base.py:986: ConvergenceWarning: Liblinear failed to converge, increase the number of iterations.\n",
      "  \"the number of iterations.\", ConvergenceWarning)\n"
     ]
    },
    {
     "data": {
      "text/plain": [
       "62.5"
      ]
     },
     "execution_count": 43,
     "metadata": {},
     "output_type": "execute_result"
    }
   ],
   "source": [
    "# Linear SVC\n",
    "\n",
    "linear_svc = LinearSVC()\n",
    "linear_svc.fit(X_train, y_train)\n",
    "Y_pred = linear_svc.predict(X_test)\n",
    "acc_linear_svc = round(linear_svc.score(X_train, y_train) * 100, 2)\n",
    "acc_linear_svc"
   ]
  },
  {
   "cell_type": "code",
   "execution_count": 44,
   "metadata": {},
   "outputs": [
    {
     "data": {
      "text/plain": [
       "62.5"
      ]
     },
     "execution_count": 44,
     "metadata": {},
     "output_type": "execute_result"
    }
   ],
   "source": [
    "# Stochastic Gradient Descent\n",
    "\n",
    "sgd = SGDClassifier()\n",
    "sgd.fit(X_train, y_train)\n",
    "Y_pred = sgd.predict(X_test)\n",
    "acc_sgd = round(sgd.score(X_train, y_train) * 100, 2)\n",
    "acc_sgd"
   ]
  },
  {
   "cell_type": "markdown",
   "metadata": {},
   "source": [
    "The model uses a decision tree as a predictive model which maps features (tree branches) to conclusions about the target value (tree leaves). Tree models where the target variable can take a finite set of values are called classification trees; in these tree structures, leaves represent class labels and branches represent conjunctions of features that lead to those class labels. Decision trees where the target variable can take continuous values (typically real numbers) are called regression trees. Reference [Wikipedia](https://en.wikipedia.org/wiki/Decision_tree_learning).\n",
    "\n",
    "The model confidence score is the highest among models evaluated so far."
   ]
  },
  {
   "cell_type": "code",
   "execution_count": 45,
   "metadata": {},
   "outputs": [
    {
     "data": {
      "text/plain": [
       "100.0"
      ]
     },
     "execution_count": 45,
     "metadata": {},
     "output_type": "execute_result"
    }
   ],
   "source": [
    "# Decision Tree\n",
    "\n",
    "decision_tree = DecisionTreeClassifier()\n",
    "decision_tree.fit(X_train, y_train)\n",
    "Y_pred = decision_tree.predict(X_test)\n",
    "acc_decision_tree = round(decision_tree.score(X_train, y_train) * 100, 2)\n",
    "acc_decision_tree"
   ]
  },
  {
   "cell_type": "code",
   "execution_count": 46,
   "metadata": {},
   "outputs": [
    {
     "data": {
      "image/png": "[encoded data removed]",
      "text/plain": [
       "<Figure size 432x288 with 1 Axes>"
      ]
     },
     "metadata": {
      "needs_background": "light"
     },
     "output_type": "display_data"
    }
   ],
   "source": [
    "import sklearn\n",
    "Y_pred_prob = decision_tree.predict_proba(X_test)[::,1]\n",
    "fpr, tpr, _ = sklearn.metrics.roc_curve(y_test,Y_pred)\n",
    "auc = sklearn.metrics.roc_auc_score(y_test, Y_pred_prob)\n",
    "plt.plot(fpr,tpr,label=\"data 1, auc=\"+str(auc))\n",
    "plt.legend(loc=4)\n",
    "plt.show()"
   ]
  },
  {
   "cell_type": "markdown",
   "metadata": {},
   "source": [
    "The next model Random Forests is one of the most popular. Random forests or random decision forests are an ensemble learning method for classification, regression and other tasks, that operate by constructing a multitude of decision trees (n_estimators=100) at training time and outputting the class that is the mode of the classes (classification) or mean prediction (regression) of the individual trees. Reference [Wikipedia](https://en.wikipedia.org/wiki/Random_forest).\n",
    "\n",
    "The model confidence score is the highest among models evaluated so far. We decide to use this model's output (Y_pred) for creating our competition submission of results."
   ]
  },
  {
   "cell_type": "code",
   "execution_count": 47,
   "metadata": {},
   "outputs": [
    {
     "data": {
      "text/plain": [
       "100.0"
      ]
     },
     "execution_count": 47,
     "metadata": {},
     "output_type": "execute_result"
    }
   ],
   "source": [
    "# Random Forest\n",
    "\n",
    "random_forest = RandomForestClassifier(n_estimators=100)\n",
    "random_forest.fit(X_train, y_train)\n",
    "Y_pred = random_forest.predict(X_test)\n",
    "random_forest.score(X_train, y_train)\n",
    "acc_random_forest = round(random_forest.score(X_train, y_train) * 100, 2)\n",
    "acc_random_forest"
   ]
  },
  {
   "cell_type": "code",
   "execution_count": 48,
   "metadata": {},
   "outputs": [
    {
     "name": "stdout",
     "output_type": "stream",
     "text": [
      "Feature: bp, Score: 0.00739\n",
      "Feature: bgr, Score: 0.04888\n",
      "Feature: bu, Score: 0.02681\n",
      "Feature: sc, Score: 0.07984\n",
      "Feature: sod, Score: 0.04178\n",
      "Feature: pot, Score: 0.00670\n",
      "Feature: hemo, Score: 0.24552\n",
      "Feature: wbcc, Score: 0.00748\n",
      "Feature: sg_1.005, Score: 0.00000\n",
      "Feature: sg_1.01, Score: 0.00911\n",
      "Feature: sg_1.015, Score: 0.02453\n",
      "Feature: sg_1.02, Score: 0.01361\n",
      "Feature: sg_1.025, Score: 0.02812\n",
      "Feature: sg_Novalue, Score: 0.00161\n",
      "Feature: al_0.0, Score: 0.07997\n",
      "Feature: al_1.0, Score: 0.00361\n",
      "Feature: al_2.0, Score: 0.00172\n",
      "Feature: al_3.0, Score: 0.00236\n",
      "Feature: al_4.0, Score: 0.00064\n",
      "Feature: al_5.0, Score: 0.00000\n",
      "Feature: su_0.0, Score: 0.00341\n",
      "Feature: su_1.0, Score: 0.00009\n",
      "Feature: su_2.0, Score: 0.00013\n",
      "Feature: su_3.0, Score: 0.00000\n",
      "Feature: su_4.0, Score: 0.00000\n",
      "Feature: su_5.0, Score: 0.00000\n",
      "Feature: rbc_Novalue, Score: 0.03068\n",
      "Feature: rbc_abnormal, Score: 0.00158\n",
      "Feature: rbc_normal, Score: 0.13260\n",
      "Feature: pc_Novalue, Score: 0.00534\n",
      "Feature: pc_abnormal, Score: 0.00330\n",
      "Feature: pc_normal, Score: 0.00759\n",
      "Feature: pcc_Novalue, Score: 0.00160\n",
      "Feature: pcc_notpresent, Score: 0.00047\n",
      "Feature: pcc_present, Score: 0.00288\n",
      "Feature: ba_Novalue, Score: 0.00086\n",
      "Feature: ba_notpresent, Score: 0.00013\n",
      "Feature: ba_present, Score: 0.00128\n",
      "Feature: htn_no, Score: 0.03190\n",
      "Feature: htn_yes, Score: 0.04161\n",
      "Feature: dm_no, Score: 0.02866\n",
      "Feature: dm_yes, Score: 0.04256\n",
      "Feature: cad_no, Score: 0.00000\n",
      "Feature: cad_yes, Score: 0.00000\n",
      "Feature: appet_good, Score: 0.00220\n",
      "Feature: appet_poor, Score: 0.01017\n",
      "Feature: pe_no, Score: 0.00571\n",
      "Feature: pe_yes, Score: 0.00560\n",
      "Feature: ane_no, Score: 0.00216\n",
      "Feature: ane_yes, Score: 0.00182\n",
      "Feature: Age_Band_(0, 10], Score: 0.00150\n",
      "Feature: Age_Band_(10, 40], Score: 0.00257\n",
      "Feature: Age_Band_(40, 60], Score: 0.00095\n",
      "Feature: Age_Band_(60, 1000], Score: 0.00100\n"
     ]
    },
    {
     "data": {
      "image/png": "[encoded data removed]",
      "text/plain": [
       "<Figure size 432x288 with 1 Axes>"
      ]
     },
     "metadata": {
      "needs_background": "light"
     },
     "output_type": "display_data"
    }
   ],
   "source": [
    "from matplotlib import pyplot\n",
    "importance = random_forest.feature_importances_\n",
    "# summarize feature importance\n",
    "for i,v in (dict(zip(train[Selected_features].columns,importance))).items():\n",
    "    print('Feature: %s, Score: %.5f' % (i,v))\n",
    "# plot feature importance\n",
    "pyplot.bar([x for x in range(len(importance))], importance)\n",
    "pyplot.show()"
   ]
  },
  {
   "cell_type": "code",
   "execution_count": 49,
   "metadata": {},
   "outputs": [
    {
     "data": {
      "text/plain": [
       "<matplotlib.axes._subplots.AxesSubplot at 0x14f245e50>"
      ]
     },
     "execution_count": 49,
     "metadata": {},
     "output_type": "execute_result"
    },
    {
     "data": {
      "image/png": "[encoded data removed]",
      "text/plain": [
       "<Figure size 1368x432 with 1 Axes>"
      ]
     },
     "metadata": {
      "needs_background": "light"
     },
     "output_type": "display_data"
    }
   ],
   "source": [
    "feat_importances = pd.DataFrame(random_forest.feature_importances_, index=train[Selected_features].columns, columns=[\"Importance\"])\n",
    "feat_importances.sort_values(by='Importance', ascending=False, inplace=True)\n",
    "feat_importances.plot(kind='bar', figsize=(19,6))"
   ]
  },
  {
   "cell_type": "code",
   "execution_count": 50,
   "metadata": {},
   "outputs": [
    {
     "data": {
      "text/html": [
       "<div>\n",
       "<style scoped>\n",
       "    .dataframe tbody tr th:only-of-type {\n",
       "        vertical-align: middle;\n",
       "    }\n",
       "\n",
       "    .dataframe tbody tr th {\n",
       "        vertical-align: top;\n",
       "    }\n",
       "\n",
       "    .dataframe thead th {\n",
       "        text-align: right;\n",
       "    }\n",
       "</style>\n",
       "<table border=\"1\" class=\"dataframe\">\n",
       "  <thead>\n",
       "    <tr style=\"text-align: right;\">\n",
       "      <th></th>\n",
       "      <th>Importance</th>\n",
       "      <th>cumulative_weight</th>\n",
       "    </tr>\n",
       "  </thead>\n",
       "  <tbody>\n",
       "    <tr>\n",
       "      <th>hemo</th>\n",
       "      <td>0.245520</td>\n",
       "      <td>24.55%</td>\n",
       "    </tr>\n",
       "    <tr>\n",
       "      <th>rbc_normal</th>\n",
       "      <td>0.132598</td>\n",
       "      <td>37.81%</td>\n",
       "    </tr>\n",
       "    <tr>\n",
       "      <th>al_0.0</th>\n",
       "      <td>0.079974</td>\n",
       "      <td>45.81%</td>\n",
       "    </tr>\n",
       "    <tr>\n",
       "      <th>sc</th>\n",
       "      <td>0.079843</td>\n",
       "      <td>53.79%</td>\n",
       "    </tr>\n",
       "    <tr>\n",
       "      <th>bgr</th>\n",
       "      <td>0.048881</td>\n",
       "      <td>58.68%</td>\n",
       "    </tr>\n",
       "    <tr>\n",
       "      <th>dm_yes</th>\n",
       "      <td>0.042560</td>\n",
       "      <td>62.94%</td>\n",
       "    </tr>\n",
       "    <tr>\n",
       "      <th>sod</th>\n",
       "      <td>0.041776</td>\n",
       "      <td>67.12%</td>\n",
       "    </tr>\n",
       "    <tr>\n",
       "      <th>htn_yes</th>\n",
       "      <td>0.041615</td>\n",
       "      <td>71.28%</td>\n",
       "    </tr>\n",
       "    <tr>\n",
       "      <th>htn_no</th>\n",
       "      <td>0.031895</td>\n",
       "      <td>74.47%</td>\n",
       "    </tr>\n",
       "    <tr>\n",
       "      <th>rbc_Novalue</th>\n",
       "      <td>0.030680</td>\n",
       "      <td>77.53%</td>\n",
       "    </tr>\n",
       "    <tr>\n",
       "      <th>dm_no</th>\n",
       "      <td>0.028655</td>\n",
       "      <td>80.40%</td>\n",
       "    </tr>\n",
       "    <tr>\n",
       "      <th>sg_1.025</th>\n",
       "      <td>0.028123</td>\n",
       "      <td>83.21%</td>\n",
       "    </tr>\n",
       "    <tr>\n",
       "      <th>bu</th>\n",
       "      <td>0.026805</td>\n",
       "      <td>85.89%</td>\n",
       "    </tr>\n",
       "    <tr>\n",
       "      <th>sg_1.015</th>\n",
       "      <td>0.024527</td>\n",
       "      <td>88.35%</td>\n",
       "    </tr>\n",
       "    <tr>\n",
       "      <th>sg_1.02</th>\n",
       "      <td>0.013609</td>\n",
       "      <td>89.71%</td>\n",
       "    </tr>\n",
       "    <tr>\n",
       "      <th>appet_poor</th>\n",
       "      <td>0.010173</td>\n",
       "      <td>90.72%</td>\n",
       "    </tr>\n",
       "    <tr>\n",
       "      <th>sg_1.01</th>\n",
       "      <td>0.009106</td>\n",
       "      <td>91.63%</td>\n",
       "    </tr>\n",
       "    <tr>\n",
       "      <th>pc_normal</th>\n",
       "      <td>0.007593</td>\n",
       "      <td>92.39%</td>\n",
       "    </tr>\n",
       "    <tr>\n",
       "      <th>wbcc</th>\n",
       "      <td>0.007475</td>\n",
       "      <td>93.14%</td>\n",
       "    </tr>\n",
       "    <tr>\n",
       "      <th>bp</th>\n",
       "      <td>0.007389</td>\n",
       "      <td>93.88%</td>\n",
       "    </tr>\n",
       "    <tr>\n",
       "      <th>pot</th>\n",
       "      <td>0.006702</td>\n",
       "      <td>94.55%</td>\n",
       "    </tr>\n",
       "    <tr>\n",
       "      <th>pe_no</th>\n",
       "      <td>0.005706</td>\n",
       "      <td>95.12%</td>\n",
       "    </tr>\n",
       "    <tr>\n",
       "      <th>pe_yes</th>\n",
       "      <td>0.005600</td>\n",
       "      <td>95.68%</td>\n",
       "    </tr>\n",
       "    <tr>\n",
       "      <th>pc_Novalue</th>\n",
       "      <td>0.005340</td>\n",
       "      <td>96.21%</td>\n",
       "    </tr>\n",
       "    <tr>\n",
       "      <th>al_1.0</th>\n",
       "      <td>0.003612</td>\n",
       "      <td>96.58%</td>\n",
       "    </tr>\n",
       "    <tr>\n",
       "      <th>su_0.0</th>\n",
       "      <td>0.003414</td>\n",
       "      <td>96.92%</td>\n",
       "    </tr>\n",
       "    <tr>\n",
       "      <th>pc_abnormal</th>\n",
       "      <td>0.003297</td>\n",
       "      <td>97.25%</td>\n",
       "    </tr>\n",
       "    <tr>\n",
       "      <th>pcc_present</th>\n",
       "      <td>0.002880</td>\n",
       "      <td>97.54%</td>\n",
       "    </tr>\n",
       "    <tr>\n",
       "      <th>Age_Band_(10, 40]</th>\n",
       "      <td>0.002565</td>\n",
       "      <td>97.79%</td>\n",
       "    </tr>\n",
       "    <tr>\n",
       "      <th>al_3.0</th>\n",
       "      <td>0.002357</td>\n",
       "      <td>98.03%</td>\n",
       "    </tr>\n",
       "    <tr>\n",
       "      <th>appet_good</th>\n",
       "      <td>0.002196</td>\n",
       "      <td>98.25%</td>\n",
       "    </tr>\n",
       "    <tr>\n",
       "      <th>ane_no</th>\n",
       "      <td>0.002159</td>\n",
       "      <td>98.46%</td>\n",
       "    </tr>\n",
       "    <tr>\n",
       "      <th>ane_yes</th>\n",
       "      <td>0.001824</td>\n",
       "      <td>98.65%</td>\n",
       "    </tr>\n",
       "    <tr>\n",
       "      <th>al_2.0</th>\n",
       "      <td>0.001718</td>\n",
       "      <td>98.82%</td>\n",
       "    </tr>\n",
       "    <tr>\n",
       "      <th>sg_Novalue</th>\n",
       "      <td>0.001608</td>\n",
       "      <td>98.98%</td>\n",
       "    </tr>\n",
       "    <tr>\n",
       "      <th>pcc_Novalue</th>\n",
       "      <td>0.001599</td>\n",
       "      <td>99.14%</td>\n",
       "    </tr>\n",
       "    <tr>\n",
       "      <th>rbc_abnormal</th>\n",
       "      <td>0.001577</td>\n",
       "      <td>99.30%</td>\n",
       "    </tr>\n",
       "    <tr>\n",
       "      <th>Age_Band_(0, 10]</th>\n",
       "      <td>0.001501</td>\n",
       "      <td>99.45%</td>\n",
       "    </tr>\n",
       "    <tr>\n",
       "      <th>ba_present</th>\n",
       "      <td>0.001280</td>\n",
       "      <td>99.57%</td>\n",
       "    </tr>\n",
       "    <tr>\n",
       "      <th>Age_Band_(60, 1000]</th>\n",
       "      <td>0.001002</td>\n",
       "      <td>99.67%</td>\n",
       "    </tr>\n",
       "    <tr>\n",
       "      <th>Age_Band_(40, 60]</th>\n",
       "      <td>0.000946</td>\n",
       "      <td>99.77%</td>\n",
       "    </tr>\n",
       "    <tr>\n",
       "      <th>ba_Novalue</th>\n",
       "      <td>0.000860</td>\n",
       "      <td>99.85%</td>\n",
       "    </tr>\n",
       "    <tr>\n",
       "      <th>al_4.0</th>\n",
       "      <td>0.000638</td>\n",
       "      <td>99.92%</td>\n",
       "    </tr>\n",
       "    <tr>\n",
       "      <th>pcc_notpresent</th>\n",
       "      <td>0.000465</td>\n",
       "      <td>99.96%</td>\n",
       "    </tr>\n",
       "    <tr>\n",
       "      <th>ba_notpresent</th>\n",
       "      <td>0.000134</td>\n",
       "      <td>99.98%</td>\n",
       "    </tr>\n",
       "    <tr>\n",
       "      <th>su_2.0</th>\n",
       "      <td>0.000129</td>\n",
       "      <td>99.99%</td>\n",
       "    </tr>\n",
       "    <tr>\n",
       "      <th>su_1.0</th>\n",
       "      <td>0.000088</td>\n",
       "      <td>100.00%</td>\n",
       "    </tr>\n",
       "    <tr>\n",
       "      <th>su_4.0</th>\n",
       "      <td>0.000002</td>\n",
       "      <td>100.00%</td>\n",
       "    </tr>\n",
       "    <tr>\n",
       "      <th>su_5.0</th>\n",
       "      <td>0.000000</td>\n",
       "      <td>100.00%</td>\n",
       "    </tr>\n",
       "    <tr>\n",
       "      <th>cad_no</th>\n",
       "      <td>0.000000</td>\n",
       "      <td>100.00%</td>\n",
       "    </tr>\n",
       "    <tr>\n",
       "      <th>cad_yes</th>\n",
       "      <td>0.000000</td>\n",
       "      <td>100.00%</td>\n",
       "    </tr>\n",
       "    <tr>\n",
       "      <th>al_5.0</th>\n",
       "      <td>0.000000</td>\n",
       "      <td>100.00%</td>\n",
       "    </tr>\n",
       "    <tr>\n",
       "      <th>sg_1.005</th>\n",
       "      <td>0.000000</td>\n",
       "      <td>100.00%</td>\n",
       "    </tr>\n",
       "    <tr>\n",
       "      <th>su_3.0</th>\n",
       "      <td>0.000000</td>\n",
       "      <td>100.00%</td>\n",
       "    </tr>\n",
       "  </tbody>\n",
       "</table>\n",
       "</div>"
      ],
      "text/plain": [
       "                     Importance cumulative_weight\n",
       "hemo                   0.245520            24.55%\n",
       "rbc_normal             0.132598            37.81%\n",
       "al_0.0                 0.079974            45.81%\n",
       "sc                     0.079843            53.79%\n",
       "bgr                    0.048881            58.68%\n",
       "dm_yes                 0.042560            62.94%\n",
       "sod                    0.041776            67.12%\n",
       "htn_yes                0.041615            71.28%\n",
       "htn_no                 0.031895            74.47%\n",
       "rbc_Novalue            0.030680            77.53%\n",
       "dm_no                  0.028655            80.40%\n",
       "sg_1.025               0.028123            83.21%\n",
       "bu                     0.026805            85.89%\n",
       "sg_1.015               0.024527            88.35%\n",
       "sg_1.02                0.013609            89.71%\n",
       "appet_poor             0.010173            90.72%\n",
       "sg_1.01                0.009106            91.63%\n",
       "pc_normal              0.007593            92.39%\n",
       "wbcc                   0.007475            93.14%\n",
       "bp                     0.007389            93.88%\n",
       "pot                    0.006702            94.55%\n",
       "pe_no                  0.005706            95.12%\n",
       "pe_yes                 0.005600            95.68%\n",
       "pc_Novalue             0.005340            96.21%\n",
       "al_1.0                 0.003612            96.58%\n",
       "su_0.0                 0.003414            96.92%\n",
       "pc_abnormal            0.003297            97.25%\n",
       "pcc_present            0.002880            97.54%\n",
       "Age_Band_(10, 40]      0.002565            97.79%\n",
       "al_3.0                 0.002357            98.03%\n",
       "appet_good             0.002196            98.25%\n",
       "ane_no                 0.002159            98.46%\n",
       "ane_yes                0.001824            98.65%\n",
       "al_2.0                 0.001718            98.82%\n",
       "sg_Novalue             0.001608            98.98%\n",
       "pcc_Novalue            0.001599            99.14%\n",
       "rbc_abnormal           0.001577            99.30%\n",
       "Age_Band_(0, 10]       0.001501            99.45%\n",
       "ba_present             0.001280            99.57%\n",
       "Age_Band_(60, 1000]    0.001002            99.67%\n",
       "Age_Band_(40, 60]      0.000946            99.77%\n",
       "ba_Novalue             0.000860            99.85%\n",
       "al_4.0                 0.000638            99.92%\n",
       "pcc_notpresent         0.000465            99.96%\n",
       "ba_notpresent          0.000134            99.98%\n",
       "su_2.0                 0.000129            99.99%\n",
       "su_1.0                 0.000088           100.00%\n",
       "su_4.0                 0.000002           100.00%\n",
       "su_5.0                 0.000000           100.00%\n",
       "cad_no                 0.000000           100.00%\n",
       "cad_yes                0.000000           100.00%\n",
       "al_5.0                 0.000000           100.00%\n",
       "sg_1.005               0.000000           100.00%\n",
       "su_3.0                 0.000000           100.00%"
      ]
     },
     "execution_count": 50,
     "metadata": {},
     "output_type": "execute_result"
    }
   ],
   "source": [
    "feat_importances.sort_values(by='Importance', ascending=False, inplace=True)\n",
    "feat_importances['cumulative_weight'] = pd.Series([\"{0:.2f}%\".format(val * 100) for val in feat_importances.Importance.cumsum()], index = feat_importances.index)\n",
    "\n",
    "feat_importances"
   ]
  },
  {
   "cell_type": "code",
   "execution_count": 51,
   "metadata": {},
   "outputs": [],
   "source": [
    "feat_importances.to_csv('Feature_Importance_random_f.csv',index=False)"
   ]
  },
  {
   "cell_type": "code",
   "execution_count": 52,
   "metadata": {},
   "outputs": [
    {
     "data": {
      "image/png": "[encoded data removed]",
      "text/plain": [
       "<Figure size 432x288 with 1 Axes>"
      ]
     },
     "metadata": {
      "needs_background": "light"
     },
     "output_type": "display_data"
    }
   ],
   "source": [
    "\n",
    "Y_pred_prob = random_forest.predict_proba(X_test)[::,1]\n",
    "fpr, tpr, _ = sklearn.metrics.roc_curve(y_test,Y_pred)\n",
    "auc = sklearn.metrics.roc_auc_score(y_test, Y_pred_prob)\n",
    "plt.plot(fpr,tpr,label=\"data 1, auc=\"+str(auc))\n",
    "plt.legend(loc=4)\n",
    "plt.show()"
   ]
  },
  {
   "cell_type": "code",
   "execution_count": 53,
   "metadata": {},
   "outputs": [
    {
     "name": "stdout",
     "output_type": "stream",
     "text": [
      "Confusion Matrix \n",
      " [[45  0]\n",
      " [ 0 75]]\n",
      "Total Notckd or N:              45\n",
      "Total ckd or P:                  75\n",
      "Total Notckd Predicted or N^:   45\n",
      "Total ckd Predicted or P^:       75\n"
     ]
    },
    {
     "data": {
      "text/plain": [
       "<sklearn.metrics._plot.confusion_matrix.ConfusionMatrixDisplay at 0x14ebf3450>"
      ]
     },
     "execution_count": 53,
     "metadata": {},
     "output_type": "execute_result"
    },
    {
     "data": {
      "image/png": "[encoded data removed]",
      "text/plain": [
       "<Figure size 720x720 with 2 Axes>"
      ]
     },
     "metadata": {
      "needs_background": "light"
     },
     "output_type": "display_data"
    }
   ],
   "source": [
    "rcParams['figure.figsize'] = 10,10\n",
    "from sklearn.metrics import confusion_matrix, ConfusionMatrixDisplay\n",
    "\n",
    "predicted = random_forest.predict(X_test)\n",
    "cm = confusion_matrix(y_test, predicted)\n",
    "cmd = ConfusionMatrixDisplay(cm, display_labels=['Notckd','ckd'])\n",
    "print('Confusion Matrix \\n',cm)\n",
    "print('Total Notckd or N:             ' ,cm[0].sum())\n",
    "print('Total ckd or P:                 ',cm[1].sum())\n",
    "print('Total Notckd Predicted or N^:  ' ,cm[0][0]+cm[1][0])\n",
    "print('Total ckd Predicted or P^:      ',cm[0][1]+cm[1][1])\n",
    "cmd.plot()\n"
   ]
  },
  {
   "cell_type": "code",
   "execution_count": 54,
   "metadata": {},
   "outputs": [
    {
     "data": {
      "text/html": [
       "<div>\n",
       "<style scoped>\n",
       "    .dataframe tbody tr th:only-of-type {\n",
       "        vertical-align: middle;\n",
       "    }\n",
       "\n",
       "    .dataframe tbody tr th {\n",
       "        vertical-align: top;\n",
       "    }\n",
       "\n",
       "    .dataframe thead th {\n",
       "        text-align: right;\n",
       "    }\n",
       "</style>\n",
       "<table border=\"1\" class=\"dataframe\">\n",
       "  <thead>\n",
       "    <tr style=\"text-align: right;\">\n",
       "      <th></th>\n",
       "      <th>Model</th>\n",
       "      <th>Score</th>\n",
       "    </tr>\n",
       "  </thead>\n",
       "  <tbody>\n",
       "    <tr>\n",
       "      <th>3</th>\n",
       "      <td>Random Forest</td>\n",
       "      <td>100.00</td>\n",
       "    </tr>\n",
       "    <tr>\n",
       "      <th>8</th>\n",
       "      <td>Decision Tree</td>\n",
       "      <td>100.00</td>\n",
       "    </tr>\n",
       "    <tr>\n",
       "      <th>4</th>\n",
       "      <td>Naive Bayes</td>\n",
       "      <td>98.93</td>\n",
       "    </tr>\n",
       "    <tr>\n",
       "      <th>2</th>\n",
       "      <td>Logistic Regression</td>\n",
       "      <td>98.21</td>\n",
       "    </tr>\n",
       "    <tr>\n",
       "      <th>1</th>\n",
       "      <td>KNN</td>\n",
       "      <td>86.43</td>\n",
       "    </tr>\n",
       "    <tr>\n",
       "      <th>0</th>\n",
       "      <td>Support Vector Machines</td>\n",
       "      <td>62.50</td>\n",
       "    </tr>\n",
       "    <tr>\n",
       "      <th>6</th>\n",
       "      <td>Stochastic Gradient Decent</td>\n",
       "      <td>62.50</td>\n",
       "    </tr>\n",
       "    <tr>\n",
       "      <th>7</th>\n",
       "      <td>Linear SVC</td>\n",
       "      <td>62.50</td>\n",
       "    </tr>\n",
       "    <tr>\n",
       "      <th>5</th>\n",
       "      <td>Perceptron</td>\n",
       "      <td>37.50</td>\n",
       "    </tr>\n",
       "  </tbody>\n",
       "</table>\n",
       "</div>"
      ],
      "text/plain": [
       "                        Model   Score\n",
       "3               Random Forest  100.00\n",
       "8               Decision Tree  100.00\n",
       "4                 Naive Bayes   98.93\n",
       "2         Logistic Regression   98.21\n",
       "1                         KNN   86.43\n",
       "0     Support Vector Machines   62.50\n",
       "6  Stochastic Gradient Decent   62.50\n",
       "7                  Linear SVC   62.50\n",
       "5                  Perceptron   37.50"
      ]
     },
     "execution_count": 54,
     "metadata": {},
     "output_type": "execute_result"
    }
   ],
   "source": [
    "models = pd.DataFrame({\n",
    "    'Model': ['Support Vector Machines', 'KNN', 'Logistic Regression', \n",
    "              'Random Forest', 'Naive Bayes', 'Perceptron', \n",
    "              'Stochastic Gradient Decent', 'Linear SVC', \n",
    "              'Decision Tree'],\n",
    "    'Score': [acc_svc, acc_knn, acc_log, \n",
    "              acc_random_forest, acc_gaussian, acc_perceptron, \n",
    "              acc_sgd, acc_linear_svc, acc_decision_tree]})\n",
    "models.sort_values(by='Score', ascending=False)"
   ]
  },
  {
   "cell_type": "code",
   "execution_count": 55,
   "metadata": {},
   "outputs": [
    {
     "name": "stdout",
     "output_type": "stream",
     "text": [
      "----------------------------------------------------------------------------------------------------\n",
      "LogisticRegression()\n",
      "Confusion Matrix \n",
      " [[43  2]\n",
      " [ 2 73]]\n",
      "Total Notckd or N:              45\n",
      "Total ckd or P:                  75\n",
      "Total Notckd Predicted or N^:   45\n",
      "Total ckd Predicted or P^:       75\n",
      "----------------------------------------------------------------------------------------------------\n",
      "Recall (all 1s predicted right): 0.97\n",
      "Precision (confidence when predicting a 1): 0.97\n",
      "Detail:\n",
      "              precision    recall  f1-score   support\n",
      "\n",
      "           0       0.96      0.96      0.96        45\n",
      "           1       0.97      0.97      0.97        75\n",
      "\n",
      "    accuracy                           0.97       120\n",
      "   macro avg       0.96      0.96      0.96       120\n",
      "weighted avg       0.97      0.97      0.97       120\n",
      "\n",
      "----------------------------------------------------------------------------------------------------\n",
      "----------------------------------------------------------------------------------------------------\n",
      "----------------------------------------------------------------------------------------------------\n",
      "SVC()\n",
      "Confusion Matrix \n",
      " [[ 0 45]\n",
      " [ 0 75]]\n",
      "Total Notckd or N:              45\n",
      "Total ckd or P:                  75\n",
      "Total Notckd Predicted or N^:   0\n",
      "Total ckd Predicted or P^:       120\n",
      "----------------------------------------------------------------------------------------------------\n",
      "Recall (all 1s predicted right): 1.0\n",
      "Precision (confidence when predicting a 1): 0.62\n",
      "Detail:\n",
      "              precision    recall  f1-score   support\n",
      "\n",
      "           0       0.00      0.00      0.00        45\n",
      "           1       0.62      1.00      0.77        75\n",
      "\n",
      "    accuracy                           0.62       120\n",
      "   macro avg       0.31      0.50      0.38       120\n",
      "weighted avg       0.39      0.62      0.48       120\n",
      "\n",
      "----------------------------------------------------------------------------------------------------\n",
      "----------------------------------------------------------------------------------------------------\n",
      "----------------------------------------------------------------------------------------------------\n",
      "KNeighborsClassifier(n_neighbors=3)\n",
      "Confusion Matrix \n",
      " [[39  6]\n",
      " [26 49]]\n",
      "Total Notckd or N:              45\n",
      "Total ckd or P:                  75\n",
      "Total Notckd Predicted or N^:   65\n",
      "Total ckd Predicted or P^:       55\n",
      "----------------------------------------------------------------------------------------------------\n",
      "Recall (all 1s predicted right): 0.65\n",
      "Precision (confidence when predicting a 1): 0.89\n",
      "Detail:\n",
      "              precision    recall  f1-score   support\n",
      "\n",
      "           0       0.60      0.87      0.71        45\n",
      "           1       0.89      0.65      0.75        75\n",
      "\n",
      "    accuracy                           0.73       120\n",
      "   macro avg       0.75      0.76      0.73       120\n",
      "weighted avg       0.78      0.73      0.74       120\n",
      "\n",
      "----------------------------------------------------------------------------------------------------\n",
      "----------------------------------------------------------------------------------------------------\n",
      "----------------------------------------------------------------------------------------------------\n",
      "GaussianNB()\n",
      "Confusion Matrix \n",
      " [[45  0]\n",
      " [ 0 75]]\n",
      "Total Notckd or N:              45\n",
      "Total ckd or P:                  75\n",
      "Total Notckd Predicted or N^:   45\n",
      "Total ckd Predicted or P^:       75\n",
      "----------------------------------------------------------------------------------------------------\n",
      "Recall (all 1s predicted right): 1.0\n",
      "Precision (confidence when predicting a 1): 1.0\n",
      "Detail:\n",
      "              precision    recall  f1-score   support\n",
      "\n",
      "           0       1.00      1.00      1.00        45\n",
      "           1       1.00      1.00      1.00        75\n",
      "\n",
      "    accuracy                           1.00       120\n",
      "   macro avg       1.00      1.00      1.00       120\n",
      "weighted avg       1.00      1.00      1.00       120\n",
      "\n",
      "----------------------------------------------------------------------------------------------------\n",
      "----------------------------------------------------------------------------------------------------\n",
      "----------------------------------------------------------------------------------------------------\n",
      "Perceptron()\n",
      "Confusion Matrix \n",
      " [[45  0]\n",
      " [75  0]]\n",
      "Total Notckd or N:              45\n",
      "Total ckd or P:                  75\n",
      "Total Notckd Predicted or N^:   120\n",
      "Total ckd Predicted or P^:       0\n",
      "----------------------------------------------------------------------------------------------------\n",
      "Recall (all 1s predicted right): 0.0\n",
      "Precision (confidence when predicting a 1): 0.0\n",
      "Detail:\n",
      "              precision    recall  f1-score   support\n",
      "\n",
      "           0       0.38      1.00      0.55        45\n",
      "           1       0.00      0.00      0.00        75\n",
      "\n",
      "    accuracy                           0.38       120\n",
      "   macro avg       0.19      0.50      0.27       120\n",
      "weighted avg       0.14      0.38      0.20       120\n",
      "\n",
      "----------------------------------------------------------------------------------------------------\n",
      "----------------------------------------------------------------------------------------------------\n",
      "----------------------------------------------------------------------------------------------------\n",
      "LinearSVC()\n",
      "Confusion Matrix \n",
      " [[ 0 45]\n",
      " [ 0 75]]\n",
      "Total Notckd or N:              45\n",
      "Total ckd or P:                  75\n",
      "Total Notckd Predicted or N^:   0\n",
      "Total ckd Predicted or P^:       120\n",
      "----------------------------------------------------------------------------------------------------\n",
      "Recall (all 1s predicted right): 1.0\n",
      "Precision (confidence when predicting a 1): 0.62\n",
      "Detail:\n",
      "              precision    recall  f1-score   support\n",
      "\n",
      "           0       0.00      0.00      0.00        45\n",
      "           1       0.62      1.00      0.77        75\n",
      "\n",
      "    accuracy                           0.62       120\n",
      "   macro avg       0.31      0.50      0.38       120\n",
      "weighted avg       0.39      0.62      0.48       120\n",
      "\n",
      "----------------------------------------------------------------------------------------------------\n",
      "----------------------------------------------------------------------------------------------------\n",
      "----------------------------------------------------------------------------------------------------\n",
      "DecisionTreeClassifier()\n",
      "Confusion Matrix \n",
      " [[41  4]\n",
      " [ 5 70]]\n",
      "Total Notckd or N:              45\n",
      "Total ckd or P:                  75\n",
      "Total Notckd Predicted or N^:   46\n",
      "Total ckd Predicted or P^:       74\n"
     ]
    },
    {
     "name": "stderr",
     "output_type": "stream",
     "text": [
      "/usr/local/anaconda3/lib/python3.7/site-packages/sklearn/metrics/_classification.py:1248: UndefinedMetricWarning: Precision and F-score are ill-defined and being set to 0.0 in labels with no predicted samples. Use `zero_division` parameter to control this behavior.\n",
      "  _warn_prf(average, modifier, msg_start, len(result))\n",
      "/usr/local/anaconda3/lib/python3.7/site-packages/sklearn/metrics/_classification.py:1248: UndefinedMetricWarning: Precision and F-score are ill-defined and being set to 0.0 in labels with no predicted samples. Use `zero_division` parameter to control this behavior.\n",
      "  _warn_prf(average, modifier, msg_start, len(result))\n",
      "/usr/local/anaconda3/lib/python3.7/site-packages/sklearn/metrics/_classification.py:1248: UndefinedMetricWarning: Precision and F-score are ill-defined and being set to 0.0 in labels with no predicted samples. Use `zero_division` parameter to control this behavior.\n",
      "  _warn_prf(average, modifier, msg_start, len(result))\n",
      "/usr/local/anaconda3/lib/python3.7/site-packages/sklearn/metrics/_classification.py:1248: UndefinedMetricWarning: Precision is ill-defined and being set to 0.0 due to no predicted samples. Use `zero_division` parameter to control this behavior.\n",
      "  _warn_prf(average, modifier, msg_start, len(result))\n",
      "/usr/local/anaconda3/lib/python3.7/site-packages/sklearn/metrics/_classification.py:1248: UndefinedMetricWarning: Precision and F-score are ill-defined and being set to 0.0 in labels with no predicted samples. Use `zero_division` parameter to control this behavior.\n",
      "  _warn_prf(average, modifier, msg_start, len(result))\n",
      "/usr/local/anaconda3/lib/python3.7/site-packages/sklearn/metrics/_classification.py:1248: UndefinedMetricWarning: Precision and F-score are ill-defined and being set to 0.0 in labels with no predicted samples. Use `zero_division` parameter to control this behavior.\n",
      "  _warn_prf(average, modifier, msg_start, len(result))\n",
      "/usr/local/anaconda3/lib/python3.7/site-packages/sklearn/metrics/_classification.py:1248: UndefinedMetricWarning: Precision and F-score are ill-defined and being set to 0.0 in labels with no predicted samples. Use `zero_division` parameter to control this behavior.\n",
      "  _warn_prf(average, modifier, msg_start, len(result))\n",
      "/usr/local/anaconda3/lib/python3.7/site-packages/sklearn/metrics/_classification.py:1248: UndefinedMetricWarning: Precision and F-score are ill-defined and being set to 0.0 in labels with no predicted samples. Use `zero_division` parameter to control this behavior.\n",
      "  _warn_prf(average, modifier, msg_start, len(result))\n",
      "/usr/local/anaconda3/lib/python3.7/site-packages/sklearn/metrics/_classification.py:1248: UndefinedMetricWarning: Precision and F-score are ill-defined and being set to 0.0 in labels with no predicted samples. Use `zero_division` parameter to control this behavior.\n",
      "  _warn_prf(average, modifier, msg_start, len(result))\n",
      "/usr/local/anaconda3/lib/python3.7/site-packages/sklearn/metrics/_classification.py:1248: UndefinedMetricWarning: Precision and F-score are ill-defined and being set to 0.0 in labels with no predicted samples. Use `zero_division` parameter to control this behavior.\n",
      "  _warn_prf(average, modifier, msg_start, len(result))\n"
     ]
    },
    {
     "name": "stdout",
     "output_type": "stream",
     "text": [
      "----------------------------------------------------------------------------------------------------\n",
      "Recall (all 1s predicted right): 0.93\n",
      "Precision (confidence when predicting a 1): 0.95\n",
      "Detail:\n",
      "              precision    recall  f1-score   support\n",
      "\n",
      "           0       0.89      0.91      0.90        45\n",
      "           1       0.95      0.93      0.94        75\n",
      "\n",
      "    accuracy                           0.93       120\n",
      "   macro avg       0.92      0.92      0.92       120\n",
      "weighted avg       0.93      0.93      0.93       120\n",
      "\n",
      "----------------------------------------------------------------------------------------------------\n",
      "----------------------------------------------------------------------------------------------------\n",
      "----------------------------------------------------------------------------------------------------\n",
      "RandomForestClassifier()\n",
      "Confusion Matrix \n",
      " [[45  0]\n",
      " [ 0 75]]\n",
      "Total Notckd or N:              45\n",
      "Total ckd or P:                  75\n",
      "Total Notckd Predicted or N^:   45\n",
      "Total ckd Predicted or P^:       75\n",
      "----------------------------------------------------------------------------------------------------\n",
      "Recall (all 1s predicted right): 1.0\n",
      "Precision (confidence when predicting a 1): 1.0\n",
      "Detail:\n",
      "              precision    recall  f1-score   support\n",
      "\n",
      "           0       1.00      1.00      1.00        45\n",
      "           1       1.00      1.00      1.00        75\n",
      "\n",
      "    accuracy                           1.00       120\n",
      "   macro avg       1.00      1.00      1.00       120\n",
      "weighted avg       1.00      1.00      1.00       120\n",
      "\n",
      "----------------------------------------------------------------------------------------------------\n",
      "----------------------------------------------------------------------------------------------------\n"
     ]
    },
    {
     "data": {
      "image/png": "[encoded data removed]",
      "text/plain": [
       "<Figure size 720x720 with 2 Axes>"
      ]
     },
     "metadata": {
      "needs_background": "light"
     },
     "output_type": "display_data"
    },
    {
     "data": {
      "image/png": "[encoded data removed]",
      "text/plain": [
       "<Figure size 720x720 with 2 Axes>"
      ]
     },
     "metadata": {
      "needs_background": "light"
     },
     "output_type": "display_data"
    },
    {
     "data": {
      "image/png": "[encoded data removed]",
      "text/plain": [
       "<Figure size 720x720 with 2 Axes>"
      ]
     },
     "metadata": {
      "needs_background": "light"
     },
     "output_type": "display_data"
    },
    {
     "data": {
      "image/png": "[encoded data removed]",
      "text/plain": [
       "<Figure size 720x720 with 2 Axes>"
      ]
     },
     "metadata": {
      "needs_background": "light"
     },
     "output_type": "display_data"
    },
    {
     "data": {
      "image/png": "[encoded data removed]",
      "text/plain": [
       "<Figure size 720x720 with 2 Axes>"
      ]
     },
     "metadata": {
      "needs_background": "light"
     },
     "output_type": "display_data"
    },
    {
     "data": {
      "image/png": "[encoded data removed]",
      "text/plain": [
       "<Figure size 720x720 with 2 Axes>"
      ]
     },
     "metadata": {
      "needs_background": "light"
     },
     "output_type": "display_data"
    },
    {
     "data": {
      "image/png": "[encoded data removed]",
      "text/plain": [
       "<Figure size 720x720 with 2 Axes>"
      ]
     },
     "metadata": {
      "needs_background": "light"
     },
     "output_type": "display_data"
    },
    {
     "data": {
      "image/png": "[encoded data removed]",
      "text/plain": [
       "<Figure size 720x720 with 2 Axes>"
      ]
     },
     "metadata": {
      "needs_background": "light"
     },
     "output_type": "display_data"
    }
   ],
   "source": [
    "rcParams['figure.figsize'] = 10,10\n",
    "from sklearn.metrics import confusion_matrix, ConfusionMatrixDisplay\n",
    "\n",
    "for model in [logreg,svc,knn,gaussian,perceptron,linear_svc,decision_tree,random_forest]:\n",
    "    print('-'*100)\n",
    "    print(model)\n",
    "    predicted = model.predict(X_test)\n",
    "    cm = confusion_matrix(y_test, predicted)\n",
    "    cmd = ConfusionMatrixDisplay(cm, display_labels=['Notckd','ckd'])\n",
    "    print('Confusion Matrix \\n',cm)\n",
    "    print('Total Notckd or N:             ' ,cm[0].sum())\n",
    "    print('Total ckd or P:                 ',cm[1].sum())\n",
    "    print('Total Notckd Predicted or N^:  ' ,cm[0][0]+cm[1][0])\n",
    "    print('Total ckd Predicted or P^:      ',cm[0][1]+cm[1][1])\n",
    "    cmd.plot()\n",
    "    print('-'*100)\n",
    "    accuracy = metrics.accuracy_score(y_test, predicted)\n",
    "    ## Precision e Recall\n",
    "    recall = metrics.recall_score(y_test, predicted)\n",
    "    precision = metrics.precision_score(y_test, predicted)\n",
    "    print(\"Recall (all 1s predicted right):\", round(recall,2))\n",
    "    print(\"Precision (confidence when predicting a 1):\", round(precision,2))\n",
    "    print(\"Detail:\")\n",
    "    print(metrics.classification_report(y_test, predicted, target_names=[str(i) for i in np.unique(y_test)]))\n",
    "    print('-'*100)\n",
    "    print('-'*100)"
   ]
  },
  {
   "cell_type": "code",
   "execution_count": null,
   "metadata": {},
   "outputs": [],
   "source": []
  }
 ],
 "metadata": {
  "kernelspec": {
   "display_name": "Python 3",
   "language": "python",
   "name": "python3"
  },
  "language_info": {
   "codemirror_mode": {
    "name": "ipython",
    "version": 3
   },
   "file_extension": ".py",
   "mimetype": "text/x-python",
   "name": "python",
   "nbconvert_exporter": "python",
   "pygments_lexer": "ipython3",
   "version": "3.7.4"
  }
 },
 "nbformat": 4,
 "nbformat_minor": 2
}
